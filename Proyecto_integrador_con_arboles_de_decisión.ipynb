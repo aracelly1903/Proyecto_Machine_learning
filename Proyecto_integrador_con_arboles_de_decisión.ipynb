{
  "nbformat": 4,
  "nbformat_minor": 0,
  "metadata": {
    "colab": {
      "provenance": []
    },
    "kernelspec": {
      "name": "python3",
      "display_name": "Python 3"
    },
    "language_info": {
      "name": "python"
    }
  },
  "cells": [
    {
      "cell_type": "code",
      "execution_count": 106,
      "metadata": {
        "id": "GbRqhvRoecby"
      },
      "outputs": [],
      "source": [
        "# Scikit-Learn\n",
        "import sklearn\n",
        "\n",
        "# Imports comunes\n",
        "import pandas as pd\n",
        "import numpy as np\n",
        "\n",
        "\n",
        "# Configuración de tamaño de gráficos matplotlib\n",
        "%matplotlib inline\n",
        "import matplotlib as mpl\n",
        "import matplotlib.pyplot as plt\n",
        "\n",
        "mpl.rc('axes', labelsize=14)\n",
        "mpl.rc('xtick', labelsize=12)\n",
        "mpl.rc('ytick', labelsize=12)\n",
        "\n",
        "# Cargar seaborn\n",
        "import seaborn as sns\n",
        "sns.set(style=\"whitegrid\", color_codes = True)\n",
        "sns.set(rc={'figure.figsize':(10,6)})\n"
      ]
    },
    {
      "cell_type": "code",
      "source": [
        "data = pd.read_csv(\"student_math_clean.csv\")\n",
        "data.head()"
      ],
      "metadata": {
        "colab": {
          "base_uri": "https://localhost:8080/",
          "height": 342
        },
        "id": "onM9ZOF-gI-u",
        "outputId": "de81b711-a6c5-47d2-fc6d-fed0c984147a"
      },
      "execution_count": null,
      "outputs": [
        {
          "output_type": "execute_result",
          "data": {
            "text/plain": [
              "   student_id school sex  age address_type              family_size  \\\n",
              "0           1     GP   F   18        Urban           Greater than 3   \n",
              "1           2     GP   F   17        Urban           Greater than 3   \n",
              "2           3     GP   F   15        Urban  Less than or equal to 3   \n",
              "3           4     GP   F   15        Urban           Greater than 3   \n",
              "4           5     GP   F   16        Urban           Greater than 3   \n",
              "\n",
              "     parent_status               mother_education  \\\n",
              "0            Apart               higher education   \n",
              "1  Living together  primary education (4th grade)   \n",
              "2  Living together  primary education (4th grade)   \n",
              "3  Living together               higher education   \n",
              "4  Living together            secondary education   \n",
              "\n",
              "                father_education mother_job  ... family_relationship  \\\n",
              "0               higher education    at_home  ...                   4   \n",
              "1  primary education (4th grade)    at_home  ...                   5   \n",
              "2  primary education (4th grade)    at_home  ...                   4   \n",
              "3               5th to 9th grade     health  ...                   3   \n",
              "4            secondary education      other  ...                   4   \n",
              "\n",
              "  free_time social weekday_alcohol weekend_alcohol  health absences grade_1  \\\n",
              "0         3      4               1               1       3        6       5   \n",
              "1         3      3               1               1       3        4       5   \n",
              "2         3      2               2               3       3       10       7   \n",
              "3         2      2               1               1       5        2      15   \n",
              "4         3      2               1               2       5        4       6   \n",
              "\n",
              "  grade_2 final_grade  \n",
              "0       6           6  \n",
              "1       5           6  \n",
              "2       8          10  \n",
              "3      14          15  \n",
              "4      10          10  \n",
              "\n",
              "[5 rows x 34 columns]"
            ],
            "text/html": [
              "\n",
              "  <div id=\"df-25ec035f-6b34-419f-a036-eb4777db05d0\" class=\"colab-df-container\">\n",
              "    <div>\n",
              "<style scoped>\n",
              "    .dataframe tbody tr th:only-of-type {\n",
              "        vertical-align: middle;\n",
              "    }\n",
              "\n",
              "    .dataframe tbody tr th {\n",
              "        vertical-align: top;\n",
              "    }\n",
              "\n",
              "    .dataframe thead th {\n",
              "        text-align: right;\n",
              "    }\n",
              "</style>\n",
              "<table border=\"1\" class=\"dataframe\">\n",
              "  <thead>\n",
              "    <tr style=\"text-align: right;\">\n",
              "      <th></th>\n",
              "      <th>student_id</th>\n",
              "      <th>school</th>\n",
              "      <th>sex</th>\n",
              "      <th>age</th>\n",
              "      <th>address_type</th>\n",
              "      <th>family_size</th>\n",
              "      <th>parent_status</th>\n",
              "      <th>mother_education</th>\n",
              "      <th>father_education</th>\n",
              "      <th>mother_job</th>\n",
              "      <th>...</th>\n",
              "      <th>family_relationship</th>\n",
              "      <th>free_time</th>\n",
              "      <th>social</th>\n",
              "      <th>weekday_alcohol</th>\n",
              "      <th>weekend_alcohol</th>\n",
              "      <th>health</th>\n",
              "      <th>absences</th>\n",
              "      <th>grade_1</th>\n",
              "      <th>grade_2</th>\n",
              "      <th>final_grade</th>\n",
              "    </tr>\n",
              "  </thead>\n",
              "  <tbody>\n",
              "    <tr>\n",
              "      <th>0</th>\n",
              "      <td>1</td>\n",
              "      <td>GP</td>\n",
              "      <td>F</td>\n",
              "      <td>18</td>\n",
              "      <td>Urban</td>\n",
              "      <td>Greater than 3</td>\n",
              "      <td>Apart</td>\n",
              "      <td>higher education</td>\n",
              "      <td>higher education</td>\n",
              "      <td>at_home</td>\n",
              "      <td>...</td>\n",
              "      <td>4</td>\n",
              "      <td>3</td>\n",
              "      <td>4</td>\n",
              "      <td>1</td>\n",
              "      <td>1</td>\n",
              "      <td>3</td>\n",
              "      <td>6</td>\n",
              "      <td>5</td>\n",
              "      <td>6</td>\n",
              "      <td>6</td>\n",
              "    </tr>\n",
              "    <tr>\n",
              "      <th>1</th>\n",
              "      <td>2</td>\n",
              "      <td>GP</td>\n",
              "      <td>F</td>\n",
              "      <td>17</td>\n",
              "      <td>Urban</td>\n",
              "      <td>Greater than 3</td>\n",
              "      <td>Living together</td>\n",
              "      <td>primary education (4th grade)</td>\n",
              "      <td>primary education (4th grade)</td>\n",
              "      <td>at_home</td>\n",
              "      <td>...</td>\n",
              "      <td>5</td>\n",
              "      <td>3</td>\n",
              "      <td>3</td>\n",
              "      <td>1</td>\n",
              "      <td>1</td>\n",
              "      <td>3</td>\n",
              "      <td>4</td>\n",
              "      <td>5</td>\n",
              "      <td>5</td>\n",
              "      <td>6</td>\n",
              "    </tr>\n",
              "    <tr>\n",
              "      <th>2</th>\n",
              "      <td>3</td>\n",
              "      <td>GP</td>\n",
              "      <td>F</td>\n",
              "      <td>15</td>\n",
              "      <td>Urban</td>\n",
              "      <td>Less than or equal to 3</td>\n",
              "      <td>Living together</td>\n",
              "      <td>primary education (4th grade)</td>\n",
              "      <td>primary education (4th grade)</td>\n",
              "      <td>at_home</td>\n",
              "      <td>...</td>\n",
              "      <td>4</td>\n",
              "      <td>3</td>\n",
              "      <td>2</td>\n",
              "      <td>2</td>\n",
              "      <td>3</td>\n",
              "      <td>3</td>\n",
              "      <td>10</td>\n",
              "      <td>7</td>\n",
              "      <td>8</td>\n",
              "      <td>10</td>\n",
              "    </tr>\n",
              "    <tr>\n",
              "      <th>3</th>\n",
              "      <td>4</td>\n",
              "      <td>GP</td>\n",
              "      <td>F</td>\n",
              "      <td>15</td>\n",
              "      <td>Urban</td>\n",
              "      <td>Greater than 3</td>\n",
              "      <td>Living together</td>\n",
              "      <td>higher education</td>\n",
              "      <td>5th to 9th grade</td>\n",
              "      <td>health</td>\n",
              "      <td>...</td>\n",
              "      <td>3</td>\n",
              "      <td>2</td>\n",
              "      <td>2</td>\n",
              "      <td>1</td>\n",
              "      <td>1</td>\n",
              "      <td>5</td>\n",
              "      <td>2</td>\n",
              "      <td>15</td>\n",
              "      <td>14</td>\n",
              "      <td>15</td>\n",
              "    </tr>\n",
              "    <tr>\n",
              "      <th>4</th>\n",
              "      <td>5</td>\n",
              "      <td>GP</td>\n",
              "      <td>F</td>\n",
              "      <td>16</td>\n",
              "      <td>Urban</td>\n",
              "      <td>Greater than 3</td>\n",
              "      <td>Living together</td>\n",
              "      <td>secondary education</td>\n",
              "      <td>secondary education</td>\n",
              "      <td>other</td>\n",
              "      <td>...</td>\n",
              "      <td>4</td>\n",
              "      <td>3</td>\n",
              "      <td>2</td>\n",
              "      <td>1</td>\n",
              "      <td>2</td>\n",
              "      <td>5</td>\n",
              "      <td>4</td>\n",
              "      <td>6</td>\n",
              "      <td>10</td>\n",
              "      <td>10</td>\n",
              "    </tr>\n",
              "  </tbody>\n",
              "</table>\n",
              "<p>5 rows × 34 columns</p>\n",
              "</div>\n",
              "    <div class=\"colab-df-buttons\">\n",
              "\n",
              "  <div class=\"colab-df-container\">\n",
              "    <button class=\"colab-df-convert\" onclick=\"convertToInteractive('df-25ec035f-6b34-419f-a036-eb4777db05d0')\"\n",
              "            title=\"Convert this dataframe to an interactive table.\"\n",
              "            style=\"display:none;\">\n",
              "\n",
              "  <svg xmlns=\"http://www.w3.org/2000/svg\" height=\"24px\" viewBox=\"0 -960 960 960\">\n",
              "    <path d=\"M120-120v-720h720v720H120Zm60-500h600v-160H180v160Zm220 220h160v-160H400v160Zm0 220h160v-160H400v160ZM180-400h160v-160H180v160Zm440 0h160v-160H620v160ZM180-180h160v-160H180v160Zm440 0h160v-160H620v160Z\"/>\n",
              "  </svg>\n",
              "    </button>\n",
              "\n",
              "  <style>\n",
              "    .colab-df-container {\n",
              "      display:flex;\n",
              "      gap: 12px;\n",
              "    }\n",
              "\n",
              "    .colab-df-convert {\n",
              "      background-color: #E8F0FE;\n",
              "      border: none;\n",
              "      border-radius: 50%;\n",
              "      cursor: pointer;\n",
              "      display: none;\n",
              "      fill: #1967D2;\n",
              "      height: 32px;\n",
              "      padding: 0 0 0 0;\n",
              "      width: 32px;\n",
              "    }\n",
              "\n",
              "    .colab-df-convert:hover {\n",
              "      background-color: #E2EBFA;\n",
              "      box-shadow: 0px 1px 2px rgba(60, 64, 67, 0.3), 0px 1px 3px 1px rgba(60, 64, 67, 0.15);\n",
              "      fill: #174EA6;\n",
              "    }\n",
              "\n",
              "    .colab-df-buttons div {\n",
              "      margin-bottom: 4px;\n",
              "    }\n",
              "\n",
              "    [theme=dark] .colab-df-convert {\n",
              "      background-color: #3B4455;\n",
              "      fill: #D2E3FC;\n",
              "    }\n",
              "\n",
              "    [theme=dark] .colab-df-convert:hover {\n",
              "      background-color: #434B5C;\n",
              "      box-shadow: 0px 1px 3px 1px rgba(0, 0, 0, 0.15);\n",
              "      filter: drop-shadow(0px 1px 2px rgba(0, 0, 0, 0.3));\n",
              "      fill: #FFFFFF;\n",
              "    }\n",
              "  </style>\n",
              "\n",
              "    <script>\n",
              "      const buttonEl =\n",
              "        document.querySelector('#df-25ec035f-6b34-419f-a036-eb4777db05d0 button.colab-df-convert');\n",
              "      buttonEl.style.display =\n",
              "        google.colab.kernel.accessAllowed ? 'block' : 'none';\n",
              "\n",
              "      async function convertToInteractive(key) {\n",
              "        const element = document.querySelector('#df-25ec035f-6b34-419f-a036-eb4777db05d0');\n",
              "        const dataTable =\n",
              "          await google.colab.kernel.invokeFunction('convertToInteractive',\n",
              "                                                    [key], {});\n",
              "        if (!dataTable) return;\n",
              "\n",
              "        const docLinkHtml = 'Like what you see? Visit the ' +\n",
              "          '<a target=\"_blank\" href=https://colab.research.google.com/notebooks/data_table.ipynb>data table notebook</a>'\n",
              "          + ' to learn more about interactive tables.';\n",
              "        element.innerHTML = '';\n",
              "        dataTable['output_type'] = 'display_data';\n",
              "        await google.colab.output.renderOutput(dataTable, element);\n",
              "        const docLink = document.createElement('div');\n",
              "        docLink.innerHTML = docLinkHtml;\n",
              "        element.appendChild(docLink);\n",
              "      }\n",
              "    </script>\n",
              "  </div>\n",
              "\n",
              "\n",
              "<div id=\"df-f40c09ce-92fc-47c3-953a-d2a1e775c34f\">\n",
              "  <button class=\"colab-df-quickchart\" onclick=\"quickchart('df-f40c09ce-92fc-47c3-953a-d2a1e775c34f')\"\n",
              "            title=\"Suggest charts\"\n",
              "            style=\"display:none;\">\n",
              "\n",
              "<svg xmlns=\"http://www.w3.org/2000/svg\" height=\"24px\"viewBox=\"0 0 24 24\"\n",
              "     width=\"24px\">\n",
              "    <g>\n",
              "        <path d=\"M19 3H5c-1.1 0-2 .9-2 2v14c0 1.1.9 2 2 2h14c1.1 0 2-.9 2-2V5c0-1.1-.9-2-2-2zM9 17H7v-7h2v7zm4 0h-2V7h2v10zm4 0h-2v-4h2v4z\"/>\n",
              "    </g>\n",
              "</svg>\n",
              "  </button>\n",
              "\n",
              "<style>\n",
              "  .colab-df-quickchart {\n",
              "      --bg-color: #E8F0FE;\n",
              "      --fill-color: #1967D2;\n",
              "      --hover-bg-color: #E2EBFA;\n",
              "      --hover-fill-color: #174EA6;\n",
              "      --disabled-fill-color: #AAA;\n",
              "      --disabled-bg-color: #DDD;\n",
              "  }\n",
              "\n",
              "  [theme=dark] .colab-df-quickchart {\n",
              "      --bg-color: #3B4455;\n",
              "      --fill-color: #D2E3FC;\n",
              "      --hover-bg-color: #434B5C;\n",
              "      --hover-fill-color: #FFFFFF;\n",
              "      --disabled-bg-color: #3B4455;\n",
              "      --disabled-fill-color: #666;\n",
              "  }\n",
              "\n",
              "  .colab-df-quickchart {\n",
              "    background-color: var(--bg-color);\n",
              "    border: none;\n",
              "    border-radius: 50%;\n",
              "    cursor: pointer;\n",
              "    display: none;\n",
              "    fill: var(--fill-color);\n",
              "    height: 32px;\n",
              "    padding: 0;\n",
              "    width: 32px;\n",
              "  }\n",
              "\n",
              "  .colab-df-quickchart:hover {\n",
              "    background-color: var(--hover-bg-color);\n",
              "    box-shadow: 0 1px 2px rgba(60, 64, 67, 0.3), 0 1px 3px 1px rgba(60, 64, 67, 0.15);\n",
              "    fill: var(--button-hover-fill-color);\n",
              "  }\n",
              "\n",
              "  .colab-df-quickchart-complete:disabled,\n",
              "  .colab-df-quickchart-complete:disabled:hover {\n",
              "    background-color: var(--disabled-bg-color);\n",
              "    fill: var(--disabled-fill-color);\n",
              "    box-shadow: none;\n",
              "  }\n",
              "\n",
              "  .colab-df-spinner {\n",
              "    border: 2px solid var(--fill-color);\n",
              "    border-color: transparent;\n",
              "    border-bottom-color: var(--fill-color);\n",
              "    animation:\n",
              "      spin 1s steps(1) infinite;\n",
              "  }\n",
              "\n",
              "  @keyframes spin {\n",
              "    0% {\n",
              "      border-color: transparent;\n",
              "      border-bottom-color: var(--fill-color);\n",
              "      border-left-color: var(--fill-color);\n",
              "    }\n",
              "    20% {\n",
              "      border-color: transparent;\n",
              "      border-left-color: var(--fill-color);\n",
              "      border-top-color: var(--fill-color);\n",
              "    }\n",
              "    30% {\n",
              "      border-color: transparent;\n",
              "      border-left-color: var(--fill-color);\n",
              "      border-top-color: var(--fill-color);\n",
              "      border-right-color: var(--fill-color);\n",
              "    }\n",
              "    40% {\n",
              "      border-color: transparent;\n",
              "      border-right-color: var(--fill-color);\n",
              "      border-top-color: var(--fill-color);\n",
              "    }\n",
              "    60% {\n",
              "      border-color: transparent;\n",
              "      border-right-color: var(--fill-color);\n",
              "    }\n",
              "    80% {\n",
              "      border-color: transparent;\n",
              "      border-right-color: var(--fill-color);\n",
              "      border-bottom-color: var(--fill-color);\n",
              "    }\n",
              "    90% {\n",
              "      border-color: transparent;\n",
              "      border-bottom-color: var(--fill-color);\n",
              "    }\n",
              "  }\n",
              "</style>\n",
              "\n",
              "  <script>\n",
              "    async function quickchart(key) {\n",
              "      const quickchartButtonEl =\n",
              "        document.querySelector('#' + key + ' button');\n",
              "      quickchartButtonEl.disabled = true;  // To prevent multiple clicks.\n",
              "      quickchartButtonEl.classList.add('colab-df-spinner');\n",
              "      try {\n",
              "        const charts = await google.colab.kernel.invokeFunction(\n",
              "            'suggestCharts', [key], {});\n",
              "      } catch (error) {\n",
              "        console.error('Error during call to suggestCharts:', error);\n",
              "      }\n",
              "      quickchartButtonEl.classList.remove('colab-df-spinner');\n",
              "      quickchartButtonEl.classList.add('colab-df-quickchart-complete');\n",
              "    }\n",
              "    (() => {\n",
              "      let quickchartButtonEl =\n",
              "        document.querySelector('#df-f40c09ce-92fc-47c3-953a-d2a1e775c34f button');\n",
              "      quickchartButtonEl.style.display =\n",
              "        google.colab.kernel.accessAllowed ? 'block' : 'none';\n",
              "    })();\n",
              "  </script>\n",
              "</div>\n",
              "    </div>\n",
              "  </div>\n"
            ]
          },
          "metadata": {},
          "execution_count": 2
        }
      ]
    },
    {
      "cell_type": "code",
      "source": [
        "data.describe().transpose()"
      ],
      "metadata": {
        "colab": {
          "base_uri": "https://localhost:8080/",
          "height": 457
        },
        "id": "v5eu0Iaegfvz",
        "outputId": "eba50654-1395-488a-b154-4d3ff80c4c46"
      },
      "execution_count": null,
      "outputs": [
        {
          "output_type": "execute_result",
          "data": {
            "text/plain": [
              "                     count        mean         std   min   25%    50%    75%  \\\n",
              "student_id           395.0  198.000000  114.170924   1.0  99.5  198.0  296.5   \n",
              "age                  395.0   16.696203    1.276043  15.0  16.0   17.0   18.0   \n",
              "class_failures       395.0    0.334177    0.743651   0.0   0.0    0.0    0.0   \n",
              "family_relationship  395.0    3.944304    0.896659   1.0   4.0    4.0    5.0   \n",
              "free_time            395.0    3.235443    0.998862   1.0   3.0    3.0    4.0   \n",
              "social               395.0    3.108861    1.113278   1.0   2.0    3.0    4.0   \n",
              "weekday_alcohol      395.0    1.481013    0.890741   1.0   1.0    1.0    2.0   \n",
              "weekend_alcohol      395.0    2.291139    1.287897   1.0   1.0    2.0    3.0   \n",
              "health               395.0    3.554430    1.390303   1.0   3.0    4.0    5.0   \n",
              "absences             395.0    5.708861    8.003096   0.0   0.0    4.0    8.0   \n",
              "grade_1              395.0   10.908861    3.319195   3.0   8.0   11.0   13.0   \n",
              "grade_2              395.0   10.713924    3.761505   0.0   9.0   11.0   13.0   \n",
              "final_grade          395.0   10.415190    4.581443   0.0   8.0   11.0   14.0   \n",
              "\n",
              "                       max  \n",
              "student_id           395.0  \n",
              "age                   22.0  \n",
              "class_failures         3.0  \n",
              "family_relationship    5.0  \n",
              "free_time              5.0  \n",
              "social                 5.0  \n",
              "weekday_alcohol        5.0  \n",
              "weekend_alcohol        5.0  \n",
              "health                 5.0  \n",
              "absences              75.0  \n",
              "grade_1               19.0  \n",
              "grade_2               19.0  \n",
              "final_grade           20.0  "
            ],
            "text/html": [
              "\n",
              "  <div id=\"df-dcfbf6d1-45d6-4427-b8c4-82ab6ebbcb23\" class=\"colab-df-container\">\n",
              "    <div>\n",
              "<style scoped>\n",
              "    .dataframe tbody tr th:only-of-type {\n",
              "        vertical-align: middle;\n",
              "    }\n",
              "\n",
              "    .dataframe tbody tr th {\n",
              "        vertical-align: top;\n",
              "    }\n",
              "\n",
              "    .dataframe thead th {\n",
              "        text-align: right;\n",
              "    }\n",
              "</style>\n",
              "<table border=\"1\" class=\"dataframe\">\n",
              "  <thead>\n",
              "    <tr style=\"text-align: right;\">\n",
              "      <th></th>\n",
              "      <th>count</th>\n",
              "      <th>mean</th>\n",
              "      <th>std</th>\n",
              "      <th>min</th>\n",
              "      <th>25%</th>\n",
              "      <th>50%</th>\n",
              "      <th>75%</th>\n",
              "      <th>max</th>\n",
              "    </tr>\n",
              "  </thead>\n",
              "  <tbody>\n",
              "    <tr>\n",
              "      <th>student_id</th>\n",
              "      <td>395.0</td>\n",
              "      <td>198.000000</td>\n",
              "      <td>114.170924</td>\n",
              "      <td>1.0</td>\n",
              "      <td>99.5</td>\n",
              "      <td>198.0</td>\n",
              "      <td>296.5</td>\n",
              "      <td>395.0</td>\n",
              "    </tr>\n",
              "    <tr>\n",
              "      <th>age</th>\n",
              "      <td>395.0</td>\n",
              "      <td>16.696203</td>\n",
              "      <td>1.276043</td>\n",
              "      <td>15.0</td>\n",
              "      <td>16.0</td>\n",
              "      <td>17.0</td>\n",
              "      <td>18.0</td>\n",
              "      <td>22.0</td>\n",
              "    </tr>\n",
              "    <tr>\n",
              "      <th>class_failures</th>\n",
              "      <td>395.0</td>\n",
              "      <td>0.334177</td>\n",
              "      <td>0.743651</td>\n",
              "      <td>0.0</td>\n",
              "      <td>0.0</td>\n",
              "      <td>0.0</td>\n",
              "      <td>0.0</td>\n",
              "      <td>3.0</td>\n",
              "    </tr>\n",
              "    <tr>\n",
              "      <th>family_relationship</th>\n",
              "      <td>395.0</td>\n",
              "      <td>3.944304</td>\n",
              "      <td>0.896659</td>\n",
              "      <td>1.0</td>\n",
              "      <td>4.0</td>\n",
              "      <td>4.0</td>\n",
              "      <td>5.0</td>\n",
              "      <td>5.0</td>\n",
              "    </tr>\n",
              "    <tr>\n",
              "      <th>free_time</th>\n",
              "      <td>395.0</td>\n",
              "      <td>3.235443</td>\n",
              "      <td>0.998862</td>\n",
              "      <td>1.0</td>\n",
              "      <td>3.0</td>\n",
              "      <td>3.0</td>\n",
              "      <td>4.0</td>\n",
              "      <td>5.0</td>\n",
              "    </tr>\n",
              "    <tr>\n",
              "      <th>social</th>\n",
              "      <td>395.0</td>\n",
              "      <td>3.108861</td>\n",
              "      <td>1.113278</td>\n",
              "      <td>1.0</td>\n",
              "      <td>2.0</td>\n",
              "      <td>3.0</td>\n",
              "      <td>4.0</td>\n",
              "      <td>5.0</td>\n",
              "    </tr>\n",
              "    <tr>\n",
              "      <th>weekday_alcohol</th>\n",
              "      <td>395.0</td>\n",
              "      <td>1.481013</td>\n",
              "      <td>0.890741</td>\n",
              "      <td>1.0</td>\n",
              "      <td>1.0</td>\n",
              "      <td>1.0</td>\n",
              "      <td>2.0</td>\n",
              "      <td>5.0</td>\n",
              "    </tr>\n",
              "    <tr>\n",
              "      <th>weekend_alcohol</th>\n",
              "      <td>395.0</td>\n",
              "      <td>2.291139</td>\n",
              "      <td>1.287897</td>\n",
              "      <td>1.0</td>\n",
              "      <td>1.0</td>\n",
              "      <td>2.0</td>\n",
              "      <td>3.0</td>\n",
              "      <td>5.0</td>\n",
              "    </tr>\n",
              "    <tr>\n",
              "      <th>health</th>\n",
              "      <td>395.0</td>\n",
              "      <td>3.554430</td>\n",
              "      <td>1.390303</td>\n",
              "      <td>1.0</td>\n",
              "      <td>3.0</td>\n",
              "      <td>4.0</td>\n",
              "      <td>5.0</td>\n",
              "      <td>5.0</td>\n",
              "    </tr>\n",
              "    <tr>\n",
              "      <th>absences</th>\n",
              "      <td>395.0</td>\n",
              "      <td>5.708861</td>\n",
              "      <td>8.003096</td>\n",
              "      <td>0.0</td>\n",
              "      <td>0.0</td>\n",
              "      <td>4.0</td>\n",
              "      <td>8.0</td>\n",
              "      <td>75.0</td>\n",
              "    </tr>\n",
              "    <tr>\n",
              "      <th>grade_1</th>\n",
              "      <td>395.0</td>\n",
              "      <td>10.908861</td>\n",
              "      <td>3.319195</td>\n",
              "      <td>3.0</td>\n",
              "      <td>8.0</td>\n",
              "      <td>11.0</td>\n",
              "      <td>13.0</td>\n",
              "      <td>19.0</td>\n",
              "    </tr>\n",
              "    <tr>\n",
              "      <th>grade_2</th>\n",
              "      <td>395.0</td>\n",
              "      <td>10.713924</td>\n",
              "      <td>3.761505</td>\n",
              "      <td>0.0</td>\n",
              "      <td>9.0</td>\n",
              "      <td>11.0</td>\n",
              "      <td>13.0</td>\n",
              "      <td>19.0</td>\n",
              "    </tr>\n",
              "    <tr>\n",
              "      <th>final_grade</th>\n",
              "      <td>395.0</td>\n",
              "      <td>10.415190</td>\n",
              "      <td>4.581443</td>\n",
              "      <td>0.0</td>\n",
              "      <td>8.0</td>\n",
              "      <td>11.0</td>\n",
              "      <td>14.0</td>\n",
              "      <td>20.0</td>\n",
              "    </tr>\n",
              "  </tbody>\n",
              "</table>\n",
              "</div>\n",
              "    <div class=\"colab-df-buttons\">\n",
              "\n",
              "  <div class=\"colab-df-container\">\n",
              "    <button class=\"colab-df-convert\" onclick=\"convertToInteractive('df-dcfbf6d1-45d6-4427-b8c4-82ab6ebbcb23')\"\n",
              "            title=\"Convert this dataframe to an interactive table.\"\n",
              "            style=\"display:none;\">\n",
              "\n",
              "  <svg xmlns=\"http://www.w3.org/2000/svg\" height=\"24px\" viewBox=\"0 -960 960 960\">\n",
              "    <path d=\"M120-120v-720h720v720H120Zm60-500h600v-160H180v160Zm220 220h160v-160H400v160Zm0 220h160v-160H400v160ZM180-400h160v-160H180v160Zm440 0h160v-160H620v160ZM180-180h160v-160H180v160Zm440 0h160v-160H620v160Z\"/>\n",
              "  </svg>\n",
              "    </button>\n",
              "\n",
              "  <style>\n",
              "    .colab-df-container {\n",
              "      display:flex;\n",
              "      gap: 12px;\n",
              "    }\n",
              "\n",
              "    .colab-df-convert {\n",
              "      background-color: #E8F0FE;\n",
              "      border: none;\n",
              "      border-radius: 50%;\n",
              "      cursor: pointer;\n",
              "      display: none;\n",
              "      fill: #1967D2;\n",
              "      height: 32px;\n",
              "      padding: 0 0 0 0;\n",
              "      width: 32px;\n",
              "    }\n",
              "\n",
              "    .colab-df-convert:hover {\n",
              "      background-color: #E2EBFA;\n",
              "      box-shadow: 0px 1px 2px rgba(60, 64, 67, 0.3), 0px 1px 3px 1px rgba(60, 64, 67, 0.15);\n",
              "      fill: #174EA6;\n",
              "    }\n",
              "\n",
              "    .colab-df-buttons div {\n",
              "      margin-bottom: 4px;\n",
              "    }\n",
              "\n",
              "    [theme=dark] .colab-df-convert {\n",
              "      background-color: #3B4455;\n",
              "      fill: #D2E3FC;\n",
              "    }\n",
              "\n",
              "    [theme=dark] .colab-df-convert:hover {\n",
              "      background-color: #434B5C;\n",
              "      box-shadow: 0px 1px 3px 1px rgba(0, 0, 0, 0.15);\n",
              "      filter: drop-shadow(0px 1px 2px rgba(0, 0, 0, 0.3));\n",
              "      fill: #FFFFFF;\n",
              "    }\n",
              "  </style>\n",
              "\n",
              "    <script>\n",
              "      const buttonEl =\n",
              "        document.querySelector('#df-dcfbf6d1-45d6-4427-b8c4-82ab6ebbcb23 button.colab-df-convert');\n",
              "      buttonEl.style.display =\n",
              "        google.colab.kernel.accessAllowed ? 'block' : 'none';\n",
              "\n",
              "      async function convertToInteractive(key) {\n",
              "        const element = document.querySelector('#df-dcfbf6d1-45d6-4427-b8c4-82ab6ebbcb23');\n",
              "        const dataTable =\n",
              "          await google.colab.kernel.invokeFunction('convertToInteractive',\n",
              "                                                    [key], {});\n",
              "        if (!dataTable) return;\n",
              "\n",
              "        const docLinkHtml = 'Like what you see? Visit the ' +\n",
              "          '<a target=\"_blank\" href=https://colab.research.google.com/notebooks/data_table.ipynb>data table notebook</a>'\n",
              "          + ' to learn more about interactive tables.';\n",
              "        element.innerHTML = '';\n",
              "        dataTable['output_type'] = 'display_data';\n",
              "        await google.colab.output.renderOutput(dataTable, element);\n",
              "        const docLink = document.createElement('div');\n",
              "        docLink.innerHTML = docLinkHtml;\n",
              "        element.appendChild(docLink);\n",
              "      }\n",
              "    </script>\n",
              "  </div>\n",
              "\n",
              "\n",
              "<div id=\"df-deceb2ce-e15c-46f1-bd92-05fa54f9a88f\">\n",
              "  <button class=\"colab-df-quickchart\" onclick=\"quickchart('df-deceb2ce-e15c-46f1-bd92-05fa54f9a88f')\"\n",
              "            title=\"Suggest charts\"\n",
              "            style=\"display:none;\">\n",
              "\n",
              "<svg xmlns=\"http://www.w3.org/2000/svg\" height=\"24px\"viewBox=\"0 0 24 24\"\n",
              "     width=\"24px\">\n",
              "    <g>\n",
              "        <path d=\"M19 3H5c-1.1 0-2 .9-2 2v14c0 1.1.9 2 2 2h14c1.1 0 2-.9 2-2V5c0-1.1-.9-2-2-2zM9 17H7v-7h2v7zm4 0h-2V7h2v10zm4 0h-2v-4h2v4z\"/>\n",
              "    </g>\n",
              "</svg>\n",
              "  </button>\n",
              "\n",
              "<style>\n",
              "  .colab-df-quickchart {\n",
              "      --bg-color: #E8F0FE;\n",
              "      --fill-color: #1967D2;\n",
              "      --hover-bg-color: #E2EBFA;\n",
              "      --hover-fill-color: #174EA6;\n",
              "      --disabled-fill-color: #AAA;\n",
              "      --disabled-bg-color: #DDD;\n",
              "  }\n",
              "\n",
              "  [theme=dark] .colab-df-quickchart {\n",
              "      --bg-color: #3B4455;\n",
              "      --fill-color: #D2E3FC;\n",
              "      --hover-bg-color: #434B5C;\n",
              "      --hover-fill-color: #FFFFFF;\n",
              "      --disabled-bg-color: #3B4455;\n",
              "      --disabled-fill-color: #666;\n",
              "  }\n",
              "\n",
              "  .colab-df-quickchart {\n",
              "    background-color: var(--bg-color);\n",
              "    border: none;\n",
              "    border-radius: 50%;\n",
              "    cursor: pointer;\n",
              "    display: none;\n",
              "    fill: var(--fill-color);\n",
              "    height: 32px;\n",
              "    padding: 0;\n",
              "    width: 32px;\n",
              "  }\n",
              "\n",
              "  .colab-df-quickchart:hover {\n",
              "    background-color: var(--hover-bg-color);\n",
              "    box-shadow: 0 1px 2px rgba(60, 64, 67, 0.3), 0 1px 3px 1px rgba(60, 64, 67, 0.15);\n",
              "    fill: var(--button-hover-fill-color);\n",
              "  }\n",
              "\n",
              "  .colab-df-quickchart-complete:disabled,\n",
              "  .colab-df-quickchart-complete:disabled:hover {\n",
              "    background-color: var(--disabled-bg-color);\n",
              "    fill: var(--disabled-fill-color);\n",
              "    box-shadow: none;\n",
              "  }\n",
              "\n",
              "  .colab-df-spinner {\n",
              "    border: 2px solid var(--fill-color);\n",
              "    border-color: transparent;\n",
              "    border-bottom-color: var(--fill-color);\n",
              "    animation:\n",
              "      spin 1s steps(1) infinite;\n",
              "  }\n",
              "\n",
              "  @keyframes spin {\n",
              "    0% {\n",
              "      border-color: transparent;\n",
              "      border-bottom-color: var(--fill-color);\n",
              "      border-left-color: var(--fill-color);\n",
              "    }\n",
              "    20% {\n",
              "      border-color: transparent;\n",
              "      border-left-color: var(--fill-color);\n",
              "      border-top-color: var(--fill-color);\n",
              "    }\n",
              "    30% {\n",
              "      border-color: transparent;\n",
              "      border-left-color: var(--fill-color);\n",
              "      border-top-color: var(--fill-color);\n",
              "      border-right-color: var(--fill-color);\n",
              "    }\n",
              "    40% {\n",
              "      border-color: transparent;\n",
              "      border-right-color: var(--fill-color);\n",
              "      border-top-color: var(--fill-color);\n",
              "    }\n",
              "    60% {\n",
              "      border-color: transparent;\n",
              "      border-right-color: var(--fill-color);\n",
              "    }\n",
              "    80% {\n",
              "      border-color: transparent;\n",
              "      border-right-color: var(--fill-color);\n",
              "      border-bottom-color: var(--fill-color);\n",
              "    }\n",
              "    90% {\n",
              "      border-color: transparent;\n",
              "      border-bottom-color: var(--fill-color);\n",
              "    }\n",
              "  }\n",
              "</style>\n",
              "\n",
              "  <script>\n",
              "    async function quickchart(key) {\n",
              "      const quickchartButtonEl =\n",
              "        document.querySelector('#' + key + ' button');\n",
              "      quickchartButtonEl.disabled = true;  // To prevent multiple clicks.\n",
              "      quickchartButtonEl.classList.add('colab-df-spinner');\n",
              "      try {\n",
              "        const charts = await google.colab.kernel.invokeFunction(\n",
              "            'suggestCharts', [key], {});\n",
              "      } catch (error) {\n",
              "        console.error('Error during call to suggestCharts:', error);\n",
              "      }\n",
              "      quickchartButtonEl.classList.remove('colab-df-spinner');\n",
              "      quickchartButtonEl.classList.add('colab-df-quickchart-complete');\n",
              "    }\n",
              "    (() => {\n",
              "      let quickchartButtonEl =\n",
              "        document.querySelector('#df-deceb2ce-e15c-46f1-bd92-05fa54f9a88f button');\n",
              "      quickchartButtonEl.style.display =\n",
              "        google.colab.kernel.accessAllowed ? 'block' : 'none';\n",
              "    })();\n",
              "  </script>\n",
              "</div>\n",
              "    </div>\n",
              "  </div>\n"
            ]
          },
          "metadata": {},
          "execution_count": 3
        }
      ]
    },
    {
      "cell_type": "code",
      "source": [
        "# Analizando el target\n",
        "sns.countplot(x='final_grade', data = data, palette = 'hls')"
      ],
      "metadata": {
        "colab": {
          "base_uri": "https://localhost:8080/",
          "height": 568
        },
        "id": "BeYresu-gnXC",
        "outputId": "06498f87-991b-4547-8eba-6f448d40f43a"
      },
      "execution_count": null,
      "outputs": [
        {
          "output_type": "execute_result",
          "data": {
            "text/plain": [
              "<Axes: xlabel='final_grade', ylabel='count'>"
            ]
          },
          "metadata": {},
          "execution_count": 4
        },
        {
          "output_type": "display_data",
          "data": {
            "text/plain": [
              "<Figure size 1000x600 with 1 Axes>"
            ],
            "image/png": "[encoded data removed]"
          },
          "metadata": {}
        }
      ]
    },
    {
      "cell_type": "markdown",
      "source": [
        "ANALISIS DE VARIABLES CATEGÓRICAS"
      ],
      "metadata": {
        "id": "GyqndOiphTwB"
      }
    },
    {
      "cell_type": "code",
      "source": [
        " #Analizando variable categórica\n",
        "sns.countplot(x='sex', data = data, palette = 'hls')"
      ],
      "metadata": {
        "colab": {
          "base_uri": "https://localhost:8080/",
          "height": 567
        },
        "id": "cTjav7oWhRqT",
        "outputId": "4a25bbc3-fd13-4ba3-9a0a-1cae6c39e926"
      },
      "execution_count": null,
      "outputs": [
        {
          "output_type": "execute_result",
          "data": {
            "text/plain": [
              "<Axes: xlabel='sex', ylabel='count'>"
            ]
          },
          "metadata": {},
          "execution_count": 5
        },
        {
          "output_type": "display_data",
          "data": {
            "text/plain": [
              "<Figure size 1000x600 with 1 Axes>"
            ],
            "image/png": "[encoded data removed]"
          },
          "metadata": {}
        }
      ]
    },
    {
      "cell_type": "code",
      "source": [
        " #Analizando variable categórica\n",
        "sns.countplot(x='family_size', data = data, palette = 'hls')"
      ],
      "metadata": {
        "colab": {
          "base_uri": "https://localhost:8080/",
          "height": 568
        },
        "id": "P0fBxkwAhl0V",
        "outputId": "d2c26161-8c40-4150-9dfe-7d5ef2a96d92"
      },
      "execution_count": 107,
      "outputs": [
        {
          "output_type": "execute_result",
          "data": {
            "text/plain": [
              "<Axes: xlabel='family_size', ylabel='count'>"
            ]
          },
          "metadata": {},
          "execution_count": 107
        },
        {
          "output_type": "display_data",
          "data": {
            "text/plain": [
              "<Figure size 1000x600 with 1 Axes>"
            ],
            "image/png": "[encoded data removed]"
          },
          "metadata": {}
        }
      ]
    },
    {
      "cell_type": "code",
      "source": [
        " #Analizando variable categórica parent_status\n",
        "sns.countplot(x='parent_status', data = data, palette = 'hls')"
      ],
      "metadata": {
        "colab": {
          "base_uri": "https://localhost:8080/",
          "height": 567
        },
        "id": "V1V7jrz-hwiD",
        "outputId": "ec034047-8142-40da-8be6-9eca788442ad"
      },
      "execution_count": 108,
      "outputs": [
        {
          "output_type": "execute_result",
          "data": {
            "text/plain": [
              "<Axes: xlabel='parent_status', ylabel='count'>"
            ]
          },
          "metadata": {},
          "execution_count": 108
        },
        {
          "output_type": "display_data",
          "data": {
            "text/plain": [
              "<Figure size 1000x600 with 1 Axes>"
            ],
            "image/png": "[encoded data removed]"
          },
          "metadata": {}
        }
      ]
    },
    {
      "cell_type": "code",
      "source": [
        "#Analizando variable categórica mother_education\n",
        "sns.countplot(x='mother_education', data = data, palette = 'hls')"
      ],
      "metadata": {
        "colab": {
          "base_uri": "https://localhost:8080/",
          "height": 568
        },
        "id": "aMiRWjruiFO8",
        "outputId": "9d4f79d3-6b55-4868-e141-efb0253401fe"
      },
      "execution_count": 109,
      "outputs": [
        {
          "output_type": "execute_result",
          "data": {
            "text/plain": [
              "<Axes: xlabel='mother_education', ylabel='count'>"
            ]
          },
          "metadata": {},
          "execution_count": 109
        },
        {
          "output_type": "display_data",
          "data": {
            "text/plain": [
              "<Figure size 1000x600 with 1 Axes>"
            ],
            "image/png": "[encoded data removed]"
          },
          "metadata": {}
        }
      ]
    },
    {
      "cell_type": "code",
      "source": [
        "#Analizando variable categórica mother_education\n",
        "sns.countplot(x='father_job', data = data, palette = 'hls')"
      ],
      "metadata": {
        "colab": {
          "base_uri": "https://localhost:8080/",
          "height": 426
        },
        "id": "Sd1zU8Q3ily0",
        "outputId": "74719799-82d2-42db-9ee5-11e986e85e82"
      },
      "execution_count": null,
      "outputs": [
        {
          "output_type": "execute_result",
          "data": {
            "text/plain": [
              "<Axes: xlabel='father_job', ylabel='count'>"
            ]
          },
          "metadata": {},
          "execution_count": 10
        },
        {
          "output_type": "display_data",
          "data": {
            "text/plain": [
              "<Figure size 1000x600 with 1 Axes>"
            ],
            "image/png": "[encoded data removed]"
          },
          "metadata": {}
        }
      ]
    },
    {
      "cell_type": "code",
      "source": [
        "#Analizando variable categórica mother_education\n",
        "sns.countplot(x='school_choice_reason', data = data, palette = 'hls')"
      ],
      "metadata": {
        "colab": {
          "base_uri": "https://localhost:8080/",
          "height": 425
        },
        "id": "yJZF0aMDi0KD",
        "outputId": "70067986-a4b7-4962-f02c-d217f346d02a"
      },
      "execution_count": null,
      "outputs": [
        {
          "output_type": "execute_result",
          "data": {
            "text/plain": [
              "<Axes: xlabel='school_choice_reason', ylabel='count'>"
            ]
          },
          "metadata": {},
          "execution_count": 13
        },
        {
          "output_type": "display_data",
          "data": {
            "text/plain": [
              "<Figure size 1000x600 with 1 Axes>"
            ],
            "image/png": "[encoded data removed]"
          },
          "metadata": {}
        }
      ]
    },
    {
      "cell_type": "code",
      "source": [
        "#Analizando variable categórica mother_education\n",
        "sns.countplot(x='travel_time', data = data, palette = 'hls')"
      ],
      "metadata": {
        "colab": {
          "base_uri": "https://localhost:8080/",
          "height": 425
        },
        "id": "yklY6yitkPFR",
        "outputId": "e7d1831c-6ef5-4854-aa06-c3179b279780"
      },
      "execution_count": null,
      "outputs": [
        {
          "output_type": "execute_result",
          "data": {
            "text/plain": [
              "<Axes: xlabel='travel_time', ylabel='count'>"
            ]
          },
          "metadata": {},
          "execution_count": 14
        },
        {
          "output_type": "display_data",
          "data": {
            "text/plain": [
              "<Figure size 1000x600 with 1 Axes>"
            ],
            "image/png": "[encoded data removed]"
          },
          "metadata": {}
        }
      ]
    },
    {
      "cell_type": "code",
      "source": [
        "#Analizando variable categórica mother_education\n",
        "sns.countplot(x='study_time', data = data, palette = 'hls')"
      ],
      "metadata": {
        "colab": {
          "base_uri": "https://localhost:8080/",
          "height": 425
        },
        "id": "EleX3-VSkdWC",
        "outputId": "b5a3d7b4-ba3f-4390-a235-b3a5e5658b8c"
      },
      "execution_count": null,
      "outputs": [
        {
          "output_type": "execute_result",
          "data": {
            "text/plain": [
              "<Axes: xlabel='study_time', ylabel='count'>"
            ]
          },
          "metadata": {},
          "execution_count": 15
        },
        {
          "output_type": "display_data",
          "data": {
            "text/plain": [
              "<Figure size 1000x600 with 1 Axes>"
            ],
            "image/png": "[encoded data removed]"
          },
          "metadata": {}
        }
      ]
    },
    {
      "cell_type": "code",
      "source": [
        "#Analizando variable categórica mother_education\n",
        "sns.countplot(x='guardian', data = data, palette = 'hls')"
      ],
      "metadata": {
        "colab": {
          "base_uri": "https://localhost:8080/",
          "height": 424
        },
        "id": "kJTKN9U8ktxI",
        "outputId": "4f6f78b3-c27d-45b2-cb67-a7f9987b6204"
      },
      "execution_count": null,
      "outputs": [
        {
          "output_type": "execute_result",
          "data": {
            "text/plain": [
              "<Axes: xlabel='guardian', ylabel='count'>"
            ]
          },
          "metadata": {},
          "execution_count": 17
        },
        {
          "output_type": "display_data",
          "data": {
            "text/plain": [
              "<Figure size 1000x600 with 1 Axes>"
            ],
            "image/png": "[encoded data removed]"
          },
          "metadata": {}
        }
      ]
    },
    {
      "cell_type": "code",
      "source": [
        "#Analizando variable categórica mother_education\n",
        "sns.countplot(x='nursery_school', data = data, palette = 'hls')"
      ],
      "metadata": {
        "colab": {
          "base_uri": "https://localhost:8080/",
          "height": 425
        },
        "id": "5v1Oavjek7I0",
        "outputId": "02d81a6d-0359-4a4d-b74f-60bfa0643451"
      },
      "execution_count": null,
      "outputs": [
        {
          "output_type": "execute_result",
          "data": {
            "text/plain": [
              "<Axes: xlabel='nursery_school', ylabel='count'>"
            ]
          },
          "metadata": {},
          "execution_count": 18
        },
        {
          "output_type": "display_data",
          "data": {
            "text/plain": [
              "<Figure size 1000x600 with 1 Axes>"
            ],
            "image/png": "[encoded data removed]"
          },
          "metadata": {}
        }
      ]
    },
    {
      "cell_type": "code",
      "source": [
        "#Analizando variable categórica mother_education\n",
        "sns.countplot(x='higher_ed', data = data, palette = 'hls')"
      ],
      "metadata": {
        "colab": {
          "base_uri": "https://localhost:8080/",
          "height": 425
        },
        "id": "SWxXEFIvlWX6",
        "outputId": "a87d88c9-1d6c-424d-c02e-d737b3c3a35b"
      },
      "execution_count": null,
      "outputs": [
        {
          "output_type": "execute_result",
          "data": {
            "text/plain": [
              "<Axes: xlabel='higher_ed', ylabel='count'>"
            ]
          },
          "metadata": {},
          "execution_count": 21
        },
        {
          "output_type": "display_data",
          "data": {
            "text/plain": [
              "<Figure size 1000x600 with 1 Axes>"
            ],
            "image/png": "[encoded data removed]"
          },
          "metadata": {}
        }
      ]
    },
    {
      "cell_type": "code",
      "source": [
        "#Analizando variable categórica mother_education\n",
        "sns.countplot(x='romantic_relationship', data = data, palette = 'hls')"
      ],
      "metadata": {
        "colab": {
          "base_uri": "https://localhost:8080/",
          "height": 425
        },
        "id": "flLFMjHOl1Jb",
        "outputId": "34e28767-5798-49af-d5a7-cc32c18db9e4"
      },
      "execution_count": null,
      "outputs": [
        {
          "output_type": "execute_result",
          "data": {
            "text/plain": [
              "<Axes: xlabel='romantic_relationship', ylabel='count'>"
            ]
          },
          "metadata": {},
          "execution_count": 22
        },
        {
          "output_type": "display_data",
          "data": {
            "text/plain": [
              "<Figure size 1000x600 with 1 Axes>"
            ],
            "image/png": "[encoded data removed]"
          },
          "metadata": {}
        }
      ]
    },
    {
      "cell_type": "code",
      "source": [
        "#Analizando variable categórica mother_education\n",
        "sns.countplot(x='romantic_relationship', data = data, palette = 'hls')"
      ],
      "metadata": {
        "colab": {
          "base_uri": "https://localhost:8080/",
          "height": 425
        },
        "id": "rYSryjHalCrq",
        "outputId": "5c7711b9-e5e2-4c01-9d3f-a0fe6280eb1d"
      },
      "execution_count": null,
      "outputs": [
        {
          "output_type": "execute_result",
          "data": {
            "text/plain": [
              "<Axes: xlabel='romantic_relationship', ylabel='count'>"
            ]
          },
          "metadata": {},
          "execution_count": 23
        },
        {
          "output_type": "display_data",
          "data": {
            "text/plain": [
              "<Figure size 1000x600 with 1 Axes>"
            ],
            "image/png": "[encoded data removed]"
          },
          "metadata": {}
        }
      ]
    },
    {
      "cell_type": "code",
      "source": [
        "#Analizando variable categórica mother_education\n",
        "sns.countplot(x='health', data = data, palette = 'hls')"
      ],
      "metadata": {
        "colab": {
          "base_uri": "https://localhost:8080/",
          "height": 424
        },
        "id": "4cN4zeidoieD",
        "outputId": "fc22db78-a5ee-4b05-d30e-19bf87a48fbd"
      },
      "execution_count": null,
      "outputs": [
        {
          "output_type": "execute_result",
          "data": {
            "text/plain": [
              "<Axes: xlabel='health', ylabel='count'>"
            ]
          },
          "metadata": {},
          "execution_count": 24
        },
        {
          "output_type": "display_data",
          "data": {
            "text/plain": [
              "<Figure size 1000x600 with 1 Axes>"
            ],
            "image/png": "[encoded data removed]"
          },
          "metadata": {}
        }
      ]
    },
    {
      "cell_type": "code",
      "source": [
        "#Analizando variable categórica mother_education\n",
        "sns.countplot(x='weekend_alcohol', data = data, palette = 'hls')"
      ],
      "metadata": {
        "colab": {
          "base_uri": "https://localhost:8080/",
          "height": 425
        },
        "id": "noh0MCHFqeqq",
        "outputId": "0bd29f43-574b-48f6-c8b9-7f135445e057"
      },
      "execution_count": null,
      "outputs": [
        {
          "output_type": "execute_result",
          "data": {
            "text/plain": [
              "<Axes: xlabel='weekend_alcohol', ylabel='count'>"
            ]
          },
          "metadata": {},
          "execution_count": 26
        },
        {
          "output_type": "display_data",
          "data": {
            "text/plain": [
              "<Figure size 1000x600 with 1 Axes>"
            ],
            "image/png": "[encoded data removed]"
          },
          "metadata": {}
        }
      ]
    },
    {
      "cell_type": "code",
      "source": [
        "data.groupby(['study_time']).agg({\"student_id\":\"count\",\n",
        "                           \"final_grade\" :\"mean\"}).reset_index()\n"
      ],
      "metadata": {
        "colab": {
          "base_uri": "https://localhost:8080/",
          "height": 175
        },
        "id": "PJU8TUQcrp70",
        "outputId": "33abbee6-674c-4155-8627-97f71520929a"
      },
      "execution_count": 110,
      "outputs": [
        {
          "output_type": "execute_result",
          "data": {
            "text/plain": [
              "      study_time  student_id  final_grade\n",
              "0   2 to 5 hours         198    10.171717\n",
              "1  5 to 10 hours          65    11.400000\n",
              "2       <2 hours         105    10.047619\n",
              "3      >10 hours          27    11.259259"
            ],
            "text/html": [
              "\n",
              "  <div id=\"df-e45350ec-4f8f-44fa-b21d-32739e2ac814\" class=\"colab-df-container\">\n",
              "    <div>\n",
              "<style scoped>\n",
              "    .dataframe tbody tr th:only-of-type {\n",
              "        vertical-align: middle;\n",
              "    }\n",
              "\n",
              "    .dataframe tbody tr th {\n",
              "        vertical-align: top;\n",
              "    }\n",
              "\n",
              "    .dataframe thead th {\n",
              "        text-align: right;\n",
              "    }\n",
              "</style>\n",
              "<table border=\"1\" class=\"dataframe\">\n",
              "  <thead>\n",
              "    <tr style=\"text-align: right;\">\n",
              "      <th></th>\n",
              "      <th>study_time</th>\n",
              "      <th>student_id</th>\n",
              "      <th>final_grade</th>\n",
              "    </tr>\n",
              "  </thead>\n",
              "  <tbody>\n",
              "    <tr>\n",
              "      <th>0</th>\n",
              "      <td>2 to 5 hours</td>\n",
              "      <td>198</td>\n",
              "      <td>10.171717</td>\n",
              "    </tr>\n",
              "    <tr>\n",
              "      <th>1</th>\n",
              "      <td>5 to 10 hours</td>\n",
              "      <td>65</td>\n",
              "      <td>11.400000</td>\n",
              "    </tr>\n",
              "    <tr>\n",
              "      <th>2</th>\n",
              "      <td>&lt;2 hours</td>\n",
              "      <td>105</td>\n",
              "      <td>10.047619</td>\n",
              "    </tr>\n",
              "    <tr>\n",
              "      <th>3</th>\n",
              "      <td>&gt;10 hours</td>\n",
              "      <td>27</td>\n",
              "      <td>11.259259</td>\n",
              "    </tr>\n",
              "  </tbody>\n",
              "</table>\n",
              "</div>\n",
              "    <div class=\"colab-df-buttons\">\n",
              "\n",
              "  <div class=\"colab-df-container\">\n",
              "    <button class=\"colab-df-convert\" onclick=\"convertToInteractive('df-e45350ec-4f8f-44fa-b21d-32739e2ac814')\"\n",
              "            title=\"Convert this dataframe to an interactive table.\"\n",
              "            style=\"display:none;\">\n",
              "\n",
              "  <svg xmlns=\"http://www.w3.org/2000/svg\" height=\"24px\" viewBox=\"0 -960 960 960\">\n",
              "    <path d=\"M120-120v-720h720v720H120Zm60-500h600v-160H180v160Zm220 220h160v-160H400v160Zm0 220h160v-160H400v160ZM180-400h160v-160H180v160Zm440 0h160v-160H620v160ZM180-180h160v-160H180v160Zm440 0h160v-160H620v160Z\"/>\n",
              "  </svg>\n",
              "    </button>\n",
              "\n",
              "  <style>\n",
              "    .colab-df-container {\n",
              "      display:flex;\n",
              "      gap: 12px;\n",
              "    }\n",
              "\n",
              "    .colab-df-convert {\n",
              "      background-color: #E8F0FE;\n",
              "      border: none;\n",
              "      border-radius: 50%;\n",
              "      cursor: pointer;\n",
              "      display: none;\n",
              "      fill: #1967D2;\n",
              "      height: 32px;\n",
              "      padding: 0 0 0 0;\n",
              "      width: 32px;\n",
              "    }\n",
              "\n",
              "    .colab-df-convert:hover {\n",
              "      background-color: #E2EBFA;\n",
              "      box-shadow: 0px 1px 2px rgba(60, 64, 67, 0.3), 0px 1px 3px 1px rgba(60, 64, 67, 0.15);\n",
              "      fill: #174EA6;\n",
              "    }\n",
              "\n",
              "    .colab-df-buttons div {\n",
              "      margin-bottom: 4px;\n",
              "    }\n",
              "\n",
              "    [theme=dark] .colab-df-convert {\n",
              "      background-color: #3B4455;\n",
              "      fill: #D2E3FC;\n",
              "    }\n",
              "\n",
              "    [theme=dark] .colab-df-convert:hover {\n",
              "      background-color: #434B5C;\n",
              "      box-shadow: 0px 1px 3px 1px rgba(0, 0, 0, 0.15);\n",
              "      filter: drop-shadow(0px 1px 2px rgba(0, 0, 0, 0.3));\n",
              "      fill: #FFFFFF;\n",
              "    }\n",
              "  </style>\n",
              "\n",
              "    <script>\n",
              "      const buttonEl =\n",
              "        document.querySelector('#df-e45350ec-4f8f-44fa-b21d-32739e2ac814 button.colab-df-convert');\n",
              "      buttonEl.style.display =\n",
              "        google.colab.kernel.accessAllowed ? 'block' : 'none';\n",
              "\n",
              "      async function convertToInteractive(key) {\n",
              "        const element = document.querySelector('#df-e45350ec-4f8f-44fa-b21d-32739e2ac814');\n",
              "        const dataTable =\n",
              "          await google.colab.kernel.invokeFunction('convertToInteractive',\n",
              "                                                    [key], {});\n",
              "        if (!dataTable) return;\n",
              "\n",
              "        const docLinkHtml = 'Like what you see? Visit the ' +\n",
              "          '<a target=\"_blank\" href=https://colab.research.google.com/notebooks/data_table.ipynb>data table notebook</a>'\n",
              "          + ' to learn more about interactive tables.';\n",
              "        element.innerHTML = '';\n",
              "        dataTable['output_type'] = 'display_data';\n",
              "        await google.colab.output.renderOutput(dataTable, element);\n",
              "        const docLink = document.createElement('div');\n",
              "        docLink.innerHTML = docLinkHtml;\n",
              "        element.appendChild(docLink);\n",
              "      }\n",
              "    </script>\n",
              "  </div>\n",
              "\n",
              "\n",
              "<div id=\"df-d8b4d103-edc6-4ca7-8569-f22a55796b8d\">\n",
              "  <button class=\"colab-df-quickchart\" onclick=\"quickchart('df-d8b4d103-edc6-4ca7-8569-f22a55796b8d')\"\n",
              "            title=\"Suggest charts\"\n",
              "            style=\"display:none;\">\n",
              "\n",
              "<svg xmlns=\"http://www.w3.org/2000/svg\" height=\"24px\"viewBox=\"0 0 24 24\"\n",
              "     width=\"24px\">\n",
              "    <g>\n",
              "        <path d=\"M19 3H5c-1.1 0-2 .9-2 2v14c0 1.1.9 2 2 2h14c1.1 0 2-.9 2-2V5c0-1.1-.9-2-2-2zM9 17H7v-7h2v7zm4 0h-2V7h2v10zm4 0h-2v-4h2v4z\"/>\n",
              "    </g>\n",
              "</svg>\n",
              "  </button>\n",
              "\n",
              "<style>\n",
              "  .colab-df-quickchart {\n",
              "      --bg-color: #E8F0FE;\n",
              "      --fill-color: #1967D2;\n",
              "      --hover-bg-color: #E2EBFA;\n",
              "      --hover-fill-color: #174EA6;\n",
              "      --disabled-fill-color: #AAA;\n",
              "      --disabled-bg-color: #DDD;\n",
              "  }\n",
              "\n",
              "  [theme=dark] .colab-df-quickchart {\n",
              "      --bg-color: #3B4455;\n",
              "      --fill-color: #D2E3FC;\n",
              "      --hover-bg-color: #434B5C;\n",
              "      --hover-fill-color: #FFFFFF;\n",
              "      --disabled-bg-color: #3B4455;\n",
              "      --disabled-fill-color: #666;\n",
              "  }\n",
              "\n",
              "  .colab-df-quickchart {\n",
              "    background-color: var(--bg-color);\n",
              "    border: none;\n",
              "    border-radius: 50%;\n",
              "    cursor: pointer;\n",
              "    display: none;\n",
              "    fill: var(--fill-color);\n",
              "    height: 32px;\n",
              "    padding: 0;\n",
              "    width: 32px;\n",
              "  }\n",
              "\n",
              "  .colab-df-quickchart:hover {\n",
              "    background-color: var(--hover-bg-color);\n",
              "    box-shadow: 0 1px 2px rgba(60, 64, 67, 0.3), 0 1px 3px 1px rgba(60, 64, 67, 0.15);\n",
              "    fill: var(--button-hover-fill-color);\n",
              "  }\n",
              "\n",
              "  .colab-df-quickchart-complete:disabled,\n",
              "  .colab-df-quickchart-complete:disabled:hover {\n",
              "    background-color: var(--disabled-bg-color);\n",
              "    fill: var(--disabled-fill-color);\n",
              "    box-shadow: none;\n",
              "  }\n",
              "\n",
              "  .colab-df-spinner {\n",
              "    border: 2px solid var(--fill-color);\n",
              "    border-color: transparent;\n",
              "    border-bottom-color: var(--fill-color);\n",
              "    animation:\n",
              "      spin 1s steps(1) infinite;\n",
              "  }\n",
              "\n",
              "  @keyframes spin {\n",
              "    0% {\n",
              "      border-color: transparent;\n",
              "      border-bottom-color: var(--fill-color);\n",
              "      border-left-color: var(--fill-color);\n",
              "    }\n",
              "    20% {\n",
              "      border-color: transparent;\n",
              "      border-left-color: var(--fill-color);\n",
              "      border-top-color: var(--fill-color);\n",
              "    }\n",
              "    30% {\n",
              "      border-color: transparent;\n",
              "      border-left-color: var(--fill-color);\n",
              "      border-top-color: var(--fill-color);\n",
              "      border-right-color: var(--fill-color);\n",
              "    }\n",
              "    40% {\n",
              "      border-color: transparent;\n",
              "      border-right-color: var(--fill-color);\n",
              "      border-top-color: var(--fill-color);\n",
              "    }\n",
              "    60% {\n",
              "      border-color: transparent;\n",
              "      border-right-color: var(--fill-color);\n",
              "    }\n",
              "    80% {\n",
              "      border-color: transparent;\n",
              "      border-right-color: var(--fill-color);\n",
              "      border-bottom-color: var(--fill-color);\n",
              "    }\n",
              "    90% {\n",
              "      border-color: transparent;\n",
              "      border-bottom-color: var(--fill-color);\n",
              "    }\n",
              "  }\n",
              "</style>\n",
              "\n",
              "  <script>\n",
              "    async function quickchart(key) {\n",
              "      const quickchartButtonEl =\n",
              "        document.querySelector('#' + key + ' button');\n",
              "      quickchartButtonEl.disabled = true;  // To prevent multiple clicks.\n",
              "      quickchartButtonEl.classList.add('colab-df-spinner');\n",
              "      try {\n",
              "        const charts = await google.colab.kernel.invokeFunction(\n",
              "            'suggestCharts', [key], {});\n",
              "      } catch (error) {\n",
              "        console.error('Error during call to suggestCharts:', error);\n",
              "      }\n",
              "      quickchartButtonEl.classList.remove('colab-df-spinner');\n",
              "      quickchartButtonEl.classList.add('colab-df-quickchart-complete');\n",
              "    }\n",
              "    (() => {\n",
              "      let quickchartButtonEl =\n",
              "        document.querySelector('#df-d8b4d103-edc6-4ca7-8569-f22a55796b8d button');\n",
              "      quickchartButtonEl.style.display =\n",
              "        google.colab.kernel.accessAllowed ? 'block' : 'none';\n",
              "    })();\n",
              "  </script>\n",
              "</div>\n",
              "    </div>\n",
              "  </div>\n"
            ]
          },
          "metadata": {},
          "execution_count": 110
        }
      ]
    },
    {
      "cell_type": "code",
      "source": [
        "table = pd.crosstab(data.study_time,data.final_grade)\n",
        "table.div(table.sum(1).astype(float),axis=0).plot(kind='bar',stacked=True)"
      ],
      "metadata": {
        "colab": {
          "base_uri": "https://localhost:8080/",
          "height": 654
        },
        "id": "voEOmsTTvXfi",
        "outputId": "c63a3b89-4c4d-4089-e434-bbc26e2003a6"
      },
      "execution_count": null,
      "outputs": [
        {
          "output_type": "execute_result",
          "data": {
            "text/plain": [
              "<Axes: xlabel='study_time'>"
            ]
          },
          "metadata": {},
          "execution_count": 5
        },
        {
          "output_type": "display_data",
          "data": {
            "text/plain": [
              "<Figure size 1000x600 with 1 Axes>"
            ],
            "image/png": "[encoded data removed]"
          },
          "metadata": {}
        }
      ]
    },
    {
      "cell_type": "markdown",
      "source": [
        "**ANALISI DE VARIABLES NUMERICAS**"
      ],
      "metadata": {
        "id": "ntLfqp72wRd8"
      }
    },
    {
      "cell_type": "code",
      "source": [
        "# Analizando variable numérica\n",
        "sns.displot(data, x='absences',kind=\"kde\", fill=True)"
      ],
      "metadata": {
        "colab": {
          "base_uri": "https://localhost:8080/",
          "height": 518
        },
        "id": "z0jHCk5pwYge",
        "outputId": "b10a3c64-2c88-4f68-d267-436cbd124bf7"
      },
      "execution_count": 111,
      "outputs": [
        {
          "output_type": "execute_result",
          "data": {
            "text/plain": [
              "<seaborn.axisgrid.FacetGrid at 0x7c34201cc1c0>"
            ]
          },
          "metadata": {},
          "execution_count": 111
        },
        {
          "output_type": "display_data",
          "data": {
            "text/plain": [
              "<Figure size 500x500 with 1 Axes>"
            ],
            "image/png": "[encoded data removed]"
          },
          "metadata": {}
        }
      ]
    },
    {
      "cell_type": "code",
      "source": [
        "sns.displot(data, x='final_grade', hue=\"absences\", kind=\"kde\", fill=True)"
      ],
      "metadata": {
        "colab": {
          "base_uri": "https://localhost:8080/",
          "height": 1000
        },
        "id": "jK8wzCgJyfSa",
        "outputId": "ddec3176-92a9-497c-c07b-e55bfa86325d"
      },
      "execution_count": null,
      "outputs": [
        {
          "output_type": "stream",
          "name": "stderr",
          "text": [
            "<ipython-input-10-7a655ebb4753>:1: UserWarning: Dataset has 0 variance; skipping density estimate. Pass `warn_singular=False` to disable this warning.\n",
            "  sns.displot(data, x='final_grade', hue=\"absences\", kind=\"kde\", fill=True)\n",
            "<ipython-input-10-7a655ebb4753>:1: UserWarning: Dataset has 0 variance; skipping density estimate. Pass `warn_singular=False` to disable this warning.\n",
            "  sns.displot(data, x='final_grade', hue=\"absences\", kind=\"kde\", fill=True)\n",
            "<ipython-input-10-7a655ebb4753>:1: UserWarning: Dataset has 0 variance; skipping density estimate. Pass `warn_singular=False` to disable this warning.\n",
            "  sns.displot(data, x='final_grade', hue=\"absences\", kind=\"kde\", fill=True)\n",
            "<ipython-input-10-7a655ebb4753>:1: UserWarning: Dataset has 0 variance; skipping density estimate. Pass `warn_singular=False` to disable this warning.\n",
            "  sns.displot(data, x='final_grade', hue=\"absences\", kind=\"kde\", fill=True)\n"
          ]
        },
        {
          "output_type": "execute_result",
          "data": {
            "text/plain": [
              "<seaborn.axisgrid.FacetGrid at 0x7c3423f7bac0>"
            ]
          },
          "metadata": {},
          "execution_count": 10
        },
        {
          "output_type": "display_data",
          "data": {
            "text/plain": [
              "<Figure size 590.472x500 with 1 Axes>"
            ],
            "image/png": "[encoded data removed]"
          },
          "metadata": {}
        }
      ]
    },
    {
      "cell_type": "code",
      "source": [
        "ax = sns.boxplot(x=\"absences\", y=\"final_grade\", data=data, palette = 'hls')"
      ],
      "metadata": {
        "colab": {
          "base_uri": "https://localhost:8080/",
          "height": 550
        },
        "id": "YSasJ9oDPS_M",
        "outputId": "6605f67d-5a90-449f-8b11-9abd61542509"
      },
      "execution_count": null,
      "outputs": [
        {
          "output_type": "display_data",
          "data": {
            "text/plain": [
              "<Figure size 1000x600 with 1 Axes>"
            ],
            "image/png": "[encoded data removed]"
          },
          "metadata": {}
        }
      ]
    },
    {
      "cell_type": "code",
      "source": [
        "import seaborn as sns\n",
        "sns.set(style=\"whitegrid\", color_codes = True)\n",
        "sns.set(rc={'figure.figsize':(10,6)})"
      ],
      "metadata": {
        "id": "M6eB2WlWTuNA"
      },
      "execution_count": null,
      "outputs": []
    },
    {
      "cell_type": "code",
      "source": [
        "data.groupby('final_grade')['student_id'].count()"
      ],
      "metadata": {
        "colab": {
          "base_uri": "https://localhost:8080/"
        },
        "id": "qF757FGzXVjR",
        "outputId": "96b9a264-02dd-46cd-bc9f-66c69e9f6911"
      },
      "execution_count": null,
      "outputs": [
        {
          "output_type": "execute_result",
          "data": {
            "text/plain": [
              "final_grade\n",
              "0     38\n",
              "4      1\n",
              "5      7\n",
              "6     15\n",
              "7      9\n",
              "8     32\n",
              "9     28\n",
              "10    56\n",
              "11    47\n",
              "12    31\n",
              "13    31\n",
              "14    27\n",
              "15    33\n",
              "16    16\n",
              "17     6\n",
              "18    12\n",
              "19     5\n",
              "20     1\n",
              "Name: student_id, dtype: int64"
            ]
          },
          "metadata": {},
          "execution_count": 12
        }
      ]
    },
    {
      "cell_type": "code",
      "source": [
        "print(data['travel_time'])"
      ],
      "metadata": {
        "id": "G5xVdDgFrEWS",
        "colab": {
          "base_uri": "https://localhost:8080/"
        },
        "outputId": "5df67f0c-9ccb-4018-dc84-8d30a9ff12a3"
      },
      "execution_count": null,
      "outputs": [
        {
          "output_type": "stream",
          "name": "stdout",
          "text": [
            "0          15 to 30 min.\n",
            "1               <15 min.\n",
            "2               <15 min.\n",
            "3               <15 min.\n",
            "4               <15 min.\n",
            "             ...        \n",
            "390             <15 min.\n",
            "391        15 to 30 min.\n",
            "392             <15 min.\n",
            "393    30 min. to 1 hour\n",
            "394             <15 min.\n",
            "Name: travel_time, Length: 395, dtype: object\n"
          ]
        }
      ]
    },
    {
      "cell_type": "code",
      "source": [
        "for elemento in data['school_support']:\n",
        "    print(elemento)"
      ],
      "metadata": {
        "id": "GN8O5dRizV2Q",
        "colab": {
          "base_uri": "https://localhost:8080/"
        },
        "outputId": "c8c532c3-8c32-4ec2-a08d-67c4b3493a24"
      },
      "execution_count": null,
      "outputs": [
        {
          "output_type": "stream",
          "name": "stdout",
          "text": [
            "yes\n",
            "no\n",
            "yes\n",
            "no\n",
            "no\n",
            "no\n",
            "no\n",
            "yes\n",
            "no\n",
            "no\n",
            "no\n",
            "no\n",
            "no\n",
            "no\n",
            "no\n",
            "no\n",
            "no\n",
            "yes\n",
            "no\n",
            "no\n",
            "no\n",
            "no\n",
            "no\n",
            "no\n",
            "yes\n",
            "no\n",
            "no\n",
            "no\n",
            "yes\n",
            "no\n",
            "no\n",
            "no\n",
            "no\n",
            "no\n",
            "no\n",
            "no\n",
            "no\n",
            "no\n",
            "yes\n",
            "yes\n",
            "no\n",
            "no\n",
            "no\n",
            "yes\n",
            "yes\n",
            "yes\n",
            "no\n",
            "no\n",
            "no\n",
            "yes\n",
            "no\n",
            "no\n",
            "no\n",
            "yes\n",
            "no\n",
            "no\n",
            "no\n",
            "no\n",
            "yes\n",
            "no\n",
            "no\n",
            "yes\n",
            "yes\n",
            "yes\n",
            "yes\n",
            "no\n",
            "no\n",
            "yes\n",
            "yes\n",
            "no\n",
            "no\n",
            "no\n",
            "yes\n",
            "no\n",
            "yes\n",
            "no\n",
            "no\n",
            "no\n",
            "yes\n",
            "no\n",
            "yes\n",
            "yes\n",
            "no\n",
            "no\n",
            "no\n",
            "no\n",
            "no\n",
            "no\n",
            "no\n",
            "no\n",
            "no\n",
            "no\n",
            "yes\n",
            "no\n",
            "no\n",
            "yes\n",
            "yes\n",
            "no\n",
            "no\n",
            "yes\n",
            "yes\n",
            "no\n",
            "no\n",
            "yes\n",
            "no\n",
            "yes\n",
            "yes\n",
            "no\n",
            "no\n",
            "no\n",
            "no\n",
            "yes\n",
            "yes\n",
            "no\n",
            "no\n",
            "no\n",
            "no\n",
            "no\n",
            "no\n",
            "no\n",
            "no\n",
            "no\n",
            "no\n",
            "no\n",
            "no\n",
            "yes\n",
            "yes\n",
            "no\n",
            "no\n",
            "no\n",
            "no\n",
            "no\n",
            "no\n",
            "no\n",
            "no\n",
            "no\n",
            "no\n",
            "no\n",
            "no\n",
            "no\n",
            "yes\n",
            "no\n",
            "no\n",
            "no\n",
            "no\n",
            "no\n",
            "no\n",
            "no\n",
            "no\n",
            "no\n",
            "no\n",
            "no\n",
            "no\n",
            "no\n",
            "yes\n",
            "yes\n",
            "no\n",
            "no\n",
            "no\n",
            "no\n",
            "no\n",
            "yes\n",
            "no\n",
            "no\n",
            "no\n",
            "no\n",
            "no\n",
            "no\n",
            "no\n",
            "no\n",
            "no\n",
            "no\n",
            "no\n",
            "no\n",
            "no\n",
            "no\n",
            "no\n",
            "no\n",
            "no\n",
            "no\n",
            "no\n",
            "no\n",
            "no\n",
            "no\n",
            "no\n",
            "no\n",
            "no\n",
            "no\n",
            "no\n",
            "no\n",
            "no\n",
            "no\n",
            "no\n",
            "no\n",
            "no\n",
            "no\n",
            "no\n",
            "no\n",
            "no\n",
            "no\n",
            "no\n",
            "yes\n",
            "no\n",
            "no\n",
            "no\n",
            "no\n",
            "no\n",
            "no\n",
            "no\n",
            "no\n",
            "no\n",
            "no\n",
            "yes\n",
            "no\n",
            "no\n",
            "no\n",
            "no\n",
            "no\n",
            "no\n",
            "no\n",
            "no\n",
            "no\n",
            "yes\n",
            "no\n",
            "no\n",
            "no\n",
            "no\n",
            "no\n",
            "yes\n",
            "no\n",
            "no\n",
            "no\n",
            "yes\n",
            "no\n",
            "no\n",
            "no\n",
            "no\n",
            "no\n",
            "no\n",
            "no\n",
            "no\n",
            "no\n",
            "no\n",
            "no\n",
            "no\n",
            "no\n",
            "no\n",
            "no\n",
            "no\n",
            "no\n",
            "no\n",
            "yes\n",
            "no\n",
            "no\n",
            "no\n",
            "no\n",
            "no\n",
            "no\n",
            "no\n",
            "no\n",
            "no\n",
            "no\n",
            "no\n",
            "no\n",
            "no\n",
            "no\n",
            "no\n",
            "no\n",
            "no\n",
            "no\n",
            "no\n",
            "no\n",
            "no\n",
            "no\n",
            "no\n",
            "yes\n",
            "no\n",
            "no\n",
            "yes\n",
            "no\n",
            "no\n",
            "no\n",
            "no\n",
            "yes\n",
            "no\n",
            "no\n",
            "no\n",
            "no\n",
            "no\n",
            "no\n",
            "no\n",
            "no\n",
            "no\n",
            "no\n",
            "no\n",
            "no\n",
            "no\n",
            "no\n",
            "no\n",
            "no\n",
            "no\n",
            "no\n",
            "no\n",
            "no\n",
            "no\n",
            "no\n",
            "no\n",
            "no\n",
            "no\n",
            "yes\n",
            "no\n",
            "no\n",
            "no\n",
            "no\n",
            "no\n",
            "no\n",
            "no\n",
            "no\n",
            "no\n",
            "no\n",
            "no\n",
            "no\n",
            "no\n",
            "no\n",
            "no\n",
            "no\n",
            "no\n",
            "no\n",
            "no\n",
            "no\n",
            "no\n",
            "no\n",
            "no\n",
            "no\n",
            "no\n",
            "no\n",
            "no\n",
            "no\n",
            "no\n",
            "no\n",
            "no\n",
            "no\n",
            "no\n",
            "no\n",
            "no\n",
            "no\n",
            "no\n",
            "no\n",
            "no\n",
            "no\n",
            "no\n",
            "no\n",
            "no\n",
            "no\n",
            "no\n",
            "no\n",
            "no\n",
            "no\n",
            "no\n",
            "no\n",
            "no\n",
            "no\n",
            "no\n",
            "no\n",
            "no\n",
            "no\n",
            "no\n",
            "no\n",
            "no\n",
            "no\n",
            "no\n",
            "no\n",
            "no\n",
            "no\n",
            "no\n",
            "no\n",
            "no\n",
            "no\n",
            "no\n",
            "no\n",
            "no\n",
            "no\n",
            "no\n",
            "no\n",
            "no\n",
            "no\n",
            "no\n",
            "no\n",
            "no\n",
            "no\n",
            "no\n",
            "no\n",
            "no\n",
            "no\n",
            "no\n"
          ]
        }
      ]
    },
    {
      "cell_type": "code",
      "source": [
        "mapping = {'yes':1,'no': 0,}\n",
        "data['romantic_relationship_numerico']=data['romantic_relationship'].map(mapping)\n",
        "data['romantic_relationship_numerico']"
      ],
      "metadata": {
        "id": "iYMk1_-h5dtu",
        "colab": {
          "base_uri": "https://localhost:8080/"
        },
        "outputId": "01c6b725-08b0-4357-8d2c-885e8ecc5050"
      },
      "execution_count": null,
      "outputs": [
        {
          "output_type": "execute_result",
          "data": {
            "text/plain": [
              "0      0\n",
              "1      0\n",
              "2      0\n",
              "3      1\n",
              "4      0\n",
              "      ..\n",
              "390    0\n",
              "391    0\n",
              "392    0\n",
              "393    0\n",
              "394    0\n",
              "Name: romantic_relationship_numerico, Length: 395, dtype: int64"
            ]
          },
          "metadata": {},
          "execution_count": 16
        }
      ]
    },
    {
      "cell_type": "code",
      "source": [
        "mapping = {'yes':1,'no': 0,}\n",
        "data['internet_access_numerico']=data['internet_access'].map(mapping)\n",
        "data['internet_access_numerico']"
      ],
      "metadata": {
        "id": "gCPjLpkA5dme",
        "colab": {
          "base_uri": "https://localhost:8080/"
        },
        "outputId": "76131c3e-9ec8-4ceb-c2b2-daff9021148c"
      },
      "execution_count": null,
      "outputs": [
        {
          "output_type": "execute_result",
          "data": {
            "text/plain": [
              "0      0\n",
              "1      1\n",
              "2      1\n",
              "3      1\n",
              "4      0\n",
              "      ..\n",
              "390    0\n",
              "391    1\n",
              "392    0\n",
              "393    1\n",
              "394    1\n",
              "Name: internet_access_numerico, Length: 395, dtype: int64"
            ]
          },
          "metadata": {},
          "execution_count": 17
        }
      ]
    },
    {
      "cell_type": "code",
      "source": [
        "mapping = {'yes':1,'no': 0,}\n",
        "data['internet_access_numerico']=data['internet_access'].map(mapping)\n",
        "data['internet_access_numerico']"
      ],
      "metadata": {
        "id": "C_7eTGWD4g0s",
        "colab": {
          "base_uri": "https://localhost:8080/"
        },
        "outputId": "ee945246-8a06-4a83-f185-e80dfc0df0d8"
      },
      "execution_count": null,
      "outputs": [
        {
          "output_type": "execute_result",
          "data": {
            "text/plain": [
              "0      0\n",
              "1      1\n",
              "2      1\n",
              "3      1\n",
              "4      0\n",
              "      ..\n",
              "390    0\n",
              "391    1\n",
              "392    0\n",
              "393    1\n",
              "394    1\n",
              "Name: internet_access_numerico, Length: 395, dtype: int64"
            ]
          },
          "metadata": {},
          "execution_count": 18
        }
      ]
    },
    {
      "cell_type": "code",
      "source": [
        "mapping = {'yes':1,'no': 0,}\n",
        "data['nurserysch_numerico']=data['nursery_school'].map(mapping)\n",
        "data['nurserysch_numerico']"
      ],
      "metadata": {
        "id": "TKc-Kmyp35qv",
        "colab": {
          "base_uri": "https://localhost:8080/"
        },
        "outputId": "aa5d0067-9ba8-4c0a-d7ab-a4a89b43210e"
      },
      "execution_count": null,
      "outputs": [
        {
          "output_type": "execute_result",
          "data": {
            "text/plain": [
              "0      1\n",
              "1      0\n",
              "2      1\n",
              "3      1\n",
              "4      1\n",
              "      ..\n",
              "390    1\n",
              "391    0\n",
              "392    0\n",
              "393    0\n",
              "394    1\n",
              "Name: nurserysch_numerico, Length: 395, dtype: int64"
            ]
          },
          "metadata": {},
          "execution_count": 19
        }
      ]
    },
    {
      "cell_type": "code",
      "source": [
        "mapping = {'yes':1,'no': 0,}\n",
        "data['highered_numerico']=data['higher_ed'].map(mapping)\n",
        "data['highered_numerico']"
      ],
      "metadata": {
        "id": "VtKbIzy93XGx",
        "colab": {
          "base_uri": "https://localhost:8080/"
        },
        "outputId": "b5470637-9438-4329-915f-0bd6ea11384e"
      },
      "execution_count": null,
      "outputs": [
        {
          "output_type": "execute_result",
          "data": {
            "text/plain": [
              "0      1\n",
              "1      1\n",
              "2      1\n",
              "3      1\n",
              "4      1\n",
              "      ..\n",
              "390    1\n",
              "391    1\n",
              "392    1\n",
              "393    1\n",
              "394    1\n",
              "Name: highered_numerico, Length: 395, dtype: int64"
            ]
          },
          "metadata": {},
          "execution_count": 20
        }
      ]
    },
    {
      "cell_type": "code",
      "source": [
        "mapping = {'yes':1,'no': 0,}\n",
        "data['activities_numerico']=data['activities'].map(mapping)\n",
        "data['activities_numerico']"
      ],
      "metadata": {
        "id": "h2q5_j_u3CvL",
        "colab": {
          "base_uri": "https://localhost:8080/"
        },
        "outputId": "76be0865-bb62-495a-d5b9-9a58d11206de"
      },
      "execution_count": null,
      "outputs": [
        {
          "output_type": "execute_result",
          "data": {
            "text/plain": [
              "0      0\n",
              "1      0\n",
              "2      0\n",
              "3      1\n",
              "4      0\n",
              "      ..\n",
              "390    0\n",
              "391    0\n",
              "392    0\n",
              "393    0\n",
              "394    0\n",
              "Name: activities_numerico, Length: 395, dtype: int64"
            ]
          },
          "metadata": {},
          "execution_count": 21
        }
      ]
    },
    {
      "cell_type": "code",
      "source": [
        "mapping = {'yes':1,'no': 0,}\n",
        "data['extra_paid_classes_numerico']=data['extra_paid_classes'].map(mapping)\n",
        "data['extra_paid_classes_numerico']"
      ],
      "metadata": {
        "id": "hs_iYZGx2ukT",
        "colab": {
          "base_uri": "https://localhost:8080/"
        },
        "outputId": "1e7eef0f-cf18-40c5-a650-8ca67b4ce800"
      },
      "execution_count": null,
      "outputs": [
        {
          "output_type": "execute_result",
          "data": {
            "text/plain": [
              "0      0\n",
              "1      0\n",
              "2      1\n",
              "3      1\n",
              "4      1\n",
              "      ..\n",
              "390    1\n",
              "391    0\n",
              "392    0\n",
              "393    0\n",
              "394    0\n",
              "Name: extra_paid_classes_numerico, Length: 395, dtype: int64"
            ]
          },
          "metadata": {},
          "execution_count": 22
        }
      ]
    },
    {
      "cell_type": "code",
      "source": [
        "mapping = {'yes':1,'no': 0,}\n",
        "data['family_support_numerico']=data['family_support'].map(mapping)\n",
        "data['family_support_numerico']"
      ],
      "metadata": {
        "id": "d6Z5PKdf2oRU",
        "colab": {
          "base_uri": "https://localhost:8080/"
        },
        "outputId": "14bbd061-1bb1-4823-951a-f1367d14ca06"
      },
      "execution_count": null,
      "outputs": [
        {
          "output_type": "execute_result",
          "data": {
            "text/plain": [
              "0      0\n",
              "1      1\n",
              "2      0\n",
              "3      1\n",
              "4      1\n",
              "      ..\n",
              "390    1\n",
              "391    0\n",
              "392    0\n",
              "393    0\n",
              "394    0\n",
              "Name: family_support_numerico, Length: 395, dtype: int64"
            ]
          },
          "metadata": {},
          "execution_count": 23
        }
      ]
    },
    {
      "cell_type": "code",
      "source": [
        "mapping = {'yes':1,'no': 0,}\n",
        "data['school_support_numerico']=data['school_support'].map(mapping)\n",
        "data['school_support_numerico']"
      ],
      "metadata": {
        "id": "s18gquT52Lv4",
        "colab": {
          "base_uri": "https://localhost:8080/"
        },
        "outputId": "683095e7-66c7-4346-9f2f-6ac5795f5f2c"
      },
      "execution_count": null,
      "outputs": [
        {
          "output_type": "execute_result",
          "data": {
            "text/plain": [
              "0      1\n",
              "1      0\n",
              "2      1\n",
              "3      0\n",
              "4      0\n",
              "      ..\n",
              "390    0\n",
              "391    0\n",
              "392    0\n",
              "393    0\n",
              "394    0\n",
              "Name: school_support_numerico, Length: 395, dtype: int64"
            ]
          },
          "metadata": {},
          "execution_count": 24
        }
      ]
    },
    {
      "cell_type": "code",
      "source": [
        "mapping = {'<2 hours':1,'2 to 5 hours': 2, '5 to 10 hours': 3,'>10 hours':4}\n",
        "data['study_time_numerico']=data['study_time'].map(mapping)\n",
        "data['study_time_numerico']"
      ],
      "metadata": {
        "id": "tebtKyURy0Vx",
        "colab": {
          "base_uri": "https://localhost:8080/"
        },
        "outputId": "39a4ea22-41a8-4f66-c00b-64d46ec5339d"
      },
      "execution_count": null,
      "outputs": [
        {
          "output_type": "execute_result",
          "data": {
            "text/plain": [
              "0      2\n",
              "1      2\n",
              "2      2\n",
              "3      3\n",
              "4      2\n",
              "      ..\n",
              "390    2\n",
              "391    1\n",
              "392    1\n",
              "393    1\n",
              "394    1\n",
              "Name: study_time_numerico, Length: 395, dtype: int64"
            ]
          },
          "metadata": {},
          "execution_count": 25
        }
      ]
    },
    {
      "cell_type": "code",
      "source": [
        "mapping = {'home': 1, 'reputation': 2,'other':3,'course':4}\n",
        "data['schoireason_numerico']=data['school_choice_reason'].map(mapping)\n",
        "data['schoireason_numerico']"
      ],
      "metadata": {
        "id": "UmJFt3RMyQ3L",
        "colab": {
          "base_uri": "https://localhost:8080/"
        },
        "outputId": "20a95cd6-a69e-4632-c093-198dc9b9795b"
      },
      "execution_count": null,
      "outputs": [
        {
          "output_type": "execute_result",
          "data": {
            "text/plain": [
              "0      4\n",
              "1      4\n",
              "2      3\n",
              "3      1\n",
              "4      1\n",
              "      ..\n",
              "390    4\n",
              "391    4\n",
              "392    4\n",
              "393    4\n",
              "394    4\n",
              "Name: schoireason_numerico, Length: 395, dtype: int64"
            ]
          },
          "metadata": {},
          "execution_count": 26
        }
      ]
    },
    {
      "cell_type": "code",
      "source": [
        "mapping = {'home':0,'': 1, 'services': 2,'other':3,'at_home':4}\n",
        "data['motherjob_numerico']=data['mother_job'].map(mapping)\n",
        "data['motherjob_numerico']"
      ],
      "metadata": {
        "id": "1c4A2-6cxvhc",
        "colab": {
          "base_uri": "https://localhost:8080/"
        },
        "outputId": "b98367d6-b2ec-40fa-c967-cbe6902cc023"
      },
      "execution_count": null,
      "outputs": [
        {
          "output_type": "execute_result",
          "data": {
            "text/plain": [
              "0      4.0\n",
              "1      4.0\n",
              "2      4.0\n",
              "3      NaN\n",
              "4      3.0\n",
              "      ... \n",
              "390    2.0\n",
              "391    2.0\n",
              "392    3.0\n",
              "393    2.0\n",
              "394    3.0\n",
              "Name: motherjob_numerico, Length: 395, dtype: float64"
            ]
          },
          "metadata": {},
          "execution_count": 27
        }
      ]
    },
    {
      "cell_type": "code",
      "source": [
        "mapping = {'teacher':0,'health': 1, 'services': 2,'other':3,'at_home':4}\n",
        "data['motherjob_numerico']=data['mother_job'].map(mapping)\n",
        "data['motherjob_numerico']"
      ],
      "metadata": {
        "id": "Bv7fdc1Uxdyl",
        "colab": {
          "base_uri": "https://localhost:8080/"
        },
        "outputId": "89b19cf2-caeb-4770-e09c-9df367c72193"
      },
      "execution_count": null,
      "outputs": [
        {
          "output_type": "execute_result",
          "data": {
            "text/plain": [
              "0      4\n",
              "1      4\n",
              "2      4\n",
              "3      1\n",
              "4      3\n",
              "      ..\n",
              "390    2\n",
              "391    2\n",
              "392    3\n",
              "393    2\n",
              "394    3\n",
              "Name: motherjob_numerico, Length: 395, dtype: int64"
            ]
          },
          "metadata": {},
          "execution_count": 31
        }
      ]
    },
    {
      "cell_type": "code",
      "source": [
        "mapping = {'teacher':0,'health': 1, 'services': 2,'other':3,'at_home':4}\n",
        "data['fatherjob_numerico']=data['father_job'].map(mapping)\n",
        "data['fatherjob_numerico']"
      ],
      "metadata": {
        "id": "eYyLk79zvFKT",
        "colab": {
          "base_uri": "https://localhost:8080/"
        },
        "outputId": "ac43e46f-4b0b-4bf9-cc7e-12ce87b3e718"
      },
      "execution_count": null,
      "outputs": [
        {
          "output_type": "execute_result",
          "data": {
            "text/plain": [
              "0      0\n",
              "1      3\n",
              "2      3\n",
              "3      2\n",
              "4      3\n",
              "      ..\n",
              "390    2\n",
              "391    2\n",
              "392    3\n",
              "393    3\n",
              "394    4\n",
              "Name: fatherjob_numerico, Length: 395, dtype: int64"
            ]
          },
          "metadata": {},
          "execution_count": 30
        }
      ]
    },
    {
      "cell_type": "code",
      "source": [
        "for elemento in data['mothereducation_numerico']:\n",
        "    print(elemento)"
      ],
      "metadata": {
        "id": "I-d7ZJY3xLGb",
        "colab": {
          "base_uri": "https://localhost:8080/"
        },
        "outputId": "0db91295-f253-409d-9eb8-e80c44edb717"
      },
      "execution_count": null,
      "outputs": [
        {
          "output_type": "stream",
          "name": "stdout",
          "text": [
            "4\n",
            "1\n",
            "1\n",
            "4\n",
            "3\n",
            "4\n",
            "2\n",
            "4\n",
            "3\n",
            "3\n",
            "4\n",
            "2\n",
            "4\n",
            "4\n",
            "2\n",
            "4\n",
            "4\n",
            "3\n",
            "3\n",
            "4\n",
            "4\n",
            "4\n",
            "4\n",
            "2\n",
            "2\n",
            "2\n",
            "2\n",
            "4\n",
            "3\n",
            "4\n",
            "4\n",
            "4\n",
            "4\n",
            "3\n",
            "3\n",
            "2\n",
            "4\n",
            "4\n",
            "3\n",
            "2\n",
            "2\n",
            "4\n",
            "4\n",
            "2\n",
            "2\n",
            "4\n",
            "3\n",
            "4\n",
            "4\n",
            "4\n",
            "2\n",
            "4\n",
            "4\n",
            "4\n",
            "3\n",
            "2\n",
            "4\n",
            "4\n",
            "1\n",
            "4\n",
            "4\n",
            "1\n",
            "1\n",
            "4\n",
            "4\n",
            "4\n",
            "4\n",
            "3\n",
            "2\n",
            "3\n",
            "3\n",
            "4\n",
            "1\n",
            "3\n",
            "3\n",
            "4\n",
            "4\n",
            "2\n",
            "2\n",
            "3\n",
            "2\n",
            "2\n",
            "3\n",
            "2\n",
            "1\n",
            "4\n",
            "2\n",
            "4\n",
            "2\n",
            "4\n",
            "3\n",
            "4\n",
            "3\n",
            "4\n",
            "2\n",
            "1\n",
            "4\n",
            "2\n",
            "4\n",
            "4\n",
            "4\n",
            "4\n",
            "4\n",
            "3\n",
            "3\n",
            "3\n",
            "2\n",
            "3\n",
            "4\n",
            "4\n",
            "4\n",
            "3\n",
            "2\n",
            "4\n",
            "2\n",
            "4\n",
            "4\n",
            "3\n",
            "1\n",
            "3\n",
            "1\n",
            "2\n",
            "2\n",
            "4\n",
            "2\n",
            "3\n",
            "3\n",
            "0\n",
            "2\n",
            "4\n",
            "3\n",
            "1\n",
            "2\n",
            "3\n",
            "3\n",
            "4\n",
            "3\n",
            "3\n",
            "1\n",
            "4\n",
            "4\n",
            "2\n",
            "4\n",
            "1\n",
            "2\n",
            "1\n",
            "3\n",
            "1\n",
            "4\n",
            "2\n",
            "1\n",
            "2\n",
            "3\n",
            "3\n",
            "4\n",
            "2\n",
            "1\n",
            "1\n",
            "2\n",
            "3\n",
            "2\n",
            "3\n",
            "1\n",
            "1\n",
            "1\n",
            "3\n",
            "2\n",
            "4\n",
            "2\n",
            "4\n",
            "3\n",
            "1\n",
            "4\n",
            "1\n",
            "3\n",
            "4\n",
            "2\n",
            "3\n",
            "4\n",
            "4\n",
            "4\n",
            "3\n",
            "2\n",
            "3\n",
            "3\n",
            "3\n",
            "1\n",
            "2\n",
            "3\n",
            "1\n",
            "2\n",
            "1\n",
            "1\n",
            "3\n",
            "2\n",
            "2\n",
            "4\n",
            "3\n",
            "4\n",
            "4\n",
            "4\n",
            "2\n",
            "1\n",
            "2\n",
            "2\n",
            "3\n",
            "3\n",
            "4\n",
            "1\n",
            "4\n",
            "3\n",
            "4\n",
            "2\n",
            "2\n",
            "4\n",
            "3\n",
            "4\n",
            "3\n",
            "2\n",
            "2\n",
            "2\n",
            "1\n",
            "2\n",
            "2\n",
            "4\n",
            "3\n",
            "3\n",
            "2\n",
            "2\n",
            "2\n",
            "4\n",
            "2\n",
            "4\n",
            "4\n",
            "1\n",
            "3\n",
            "2\n",
            "2\n",
            "2\n",
            "2\n",
            "4\n",
            "4\n",
            "4\n",
            "4\n",
            "2\n",
            "2\n",
            "2\n",
            "3\n",
            "3\n",
            "0\n",
            "3\n",
            "3\n",
            "2\n",
            "2\n",
            "2\n",
            "1\n",
            "4\n",
            "4\n",
            "2\n",
            "2\n",
            "4\n",
            "4\n",
            "3\n",
            "3\n",
            "2\n",
            "3\n",
            "3\n",
            "4\n",
            "4\n",
            "2\n",
            "3\n",
            "2\n",
            "1\n",
            "1\n",
            "2\n",
            "2\n",
            "3\n",
            "4\n",
            "4\n",
            "4\n",
            "4\n",
            "3\n",
            "1\n",
            "1\n",
            "2\n",
            "1\n",
            "2\n",
            "1\n",
            "2\n",
            "4\n",
            "4\n",
            "4\n",
            "2\n",
            "3\n",
            "3\n",
            "3\n",
            "4\n",
            "4\n",
            "4\n",
            "4\n",
            "4\n",
            "4\n",
            "4\n",
            "3\n",
            "3\n",
            "2\n",
            "3\n",
            "4\n",
            "3\n",
            "1\n",
            "1\n",
            "2\n",
            "1\n",
            "3\n",
            "1\n",
            "2\n",
            "2\n",
            "4\n",
            "3\n",
            "4\n",
            "4\n",
            "2\n",
            "2\n",
            "3\n",
            "0\n",
            "4\n",
            "3\n",
            "2\n",
            "4\n",
            "4\n",
            "2\n",
            "2\n",
            "3\n",
            "2\n",
            "2\n",
            "3\n",
            "3\n",
            "3\n",
            "3\n",
            "3\n",
            "2\n",
            "4\n",
            "3\n",
            "2\n",
            "2\n",
            "3\n",
            "4\n",
            "4\n",
            "4\n",
            "3\n",
            "1\n",
            "3\n",
            "1\n",
            "1\n",
            "4\n",
            "3\n",
            "4\n",
            "3\n",
            "1\n",
            "1\n",
            "1\n",
            "1\n",
            "3\n",
            "4\n",
            "1\n",
            "1\n",
            "4\n",
            "1\n",
            "2\n",
            "4\n",
            "3\n",
            "1\n",
            "2\n",
            "1\n",
            "4\n",
            "1\n",
            "4\n",
            "4\n",
            "3\n",
            "3\n",
            "4\n",
            "2\n",
            "2\n",
            "1\n",
            "4\n",
            "2\n",
            "4\n",
            "2\n",
            "3\n",
            "1\n",
            "2\n",
            "3\n",
            "1\n",
            "3\n",
            "1\n"
          ]
        }
      ]
    },
    {
      "cell_type": "code",
      "source": [
        "mapping = {'none':0,'primary education (4th grade)': 1, '5th to 9th grade': 2,'secondary education':3,'higher education':4}\n",
        "data['fathereducation_numerico']=data['father_education'].map(mapping)\n",
        "data['fathereducation_numerico']"
      ],
      "metadata": {
        "id": "OTu1Amj4vQ23",
        "colab": {
          "base_uri": "https://localhost:8080/"
        },
        "outputId": "fe38a34f-2847-4ac3-93a4-c2d6f0f8e2b4"
      },
      "execution_count": null,
      "outputs": [
        {
          "output_type": "execute_result",
          "data": {
            "text/plain": [
              "0      4\n",
              "1      1\n",
              "2      1\n",
              "3      2\n",
              "4      3\n",
              "      ..\n",
              "390    2\n",
              "391    1\n",
              "392    1\n",
              "393    2\n",
              "394    1\n",
              "Name: fathereducation_numerico, Length: 395, dtype: int64"
            ]
          },
          "metadata": {},
          "execution_count": 28
        }
      ]
    },
    {
      "cell_type": "code",
      "source": [
        "mapping = {'none':0,'primary education (4th grade)': 1, '5th to 9th grade': 2,'secondary education':3,'higher education':4}\n",
        "data['mothereducation_numerico']=data['mother_education'].map(mapping)\n",
        "data['mothereducation_numerico']"
      ],
      "metadata": {
        "id": "rgINJqkLu7hW",
        "colab": {
          "base_uri": "https://localhost:8080/"
        },
        "outputId": "bb6f4b0e-6073-4cb2-9391-bead4c449661"
      },
      "execution_count": null,
      "outputs": [
        {
          "output_type": "execute_result",
          "data": {
            "text/plain": [
              "0      4\n",
              "1      1\n",
              "2      1\n",
              "3      4\n",
              "4      3\n",
              "      ..\n",
              "390    2\n",
              "391    3\n",
              "392    1\n",
              "393    3\n",
              "394    1\n",
              "Name: mothereducation_numerico, Length: 395, dtype: int64"
            ]
          },
          "metadata": {},
          "execution_count": 51
        }
      ]
    },
    {
      "cell_type": "code",
      "source": [
        "mapping = {'Apart': 1, 'Living together': 0}\n",
        "data['parentstatus_numerico']=data['parent_status'].map(mapping)\n",
        "data['parentstatus_numerico']"
      ],
      "metadata": {
        "id": "1xnmAbTAvvuv",
        "colab": {
          "base_uri": "https://localhost:8080/"
        },
        "outputId": "da10853c-7658-4fe0-d643-b4fa0446d3f2"
      },
      "execution_count": null,
      "outputs": [
        {
          "output_type": "execute_result",
          "data": {
            "text/plain": [
              "0      1\n",
              "1      0\n",
              "2      0\n",
              "3      0\n",
              "4      0\n",
              "      ..\n",
              "390    1\n",
              "391    0\n",
              "392    0\n",
              "393    0\n",
              "394    0\n",
              "Name: parentstatus_numerico, Length: 395, dtype: int64"
            ]
          },
          "metadata": {},
          "execution_count": 52
        }
      ]
    },
    {
      "cell_type": "code",
      "source": [
        "mapping = {'Greater than 3': 1, 'Less than or equal to 3': 0}\n",
        "data['familysize_numerico']=data['family_size'].map(mapping)\n",
        "data['familysize_numerico']"
      ],
      "metadata": {
        "id": "_rSkSii-u4jg",
        "colab": {
          "base_uri": "https://localhost:8080/"
        },
        "outputId": "5c9f730e-eb70-4314-b00d-b1595d676c7a"
      },
      "execution_count": null,
      "outputs": [
        {
          "output_type": "execute_result",
          "data": {
            "text/plain": [
              "0      1\n",
              "1      1\n",
              "2      0\n",
              "3      1\n",
              "4      1\n",
              "      ..\n",
              "390    0\n",
              "391    0\n",
              "392    1\n",
              "393    0\n",
              "394    0\n",
              "Name: familysize_numerico, Length: 395, dtype: int64"
            ]
          },
          "metadata": {},
          "execution_count": 53
        }
      ]
    },
    {
      "cell_type": "code",
      "source": [
        "mapping = {'F': 1, 'M': 0}\n",
        "data['sex_numerico']=data['sex'].map(mapping)\n",
        "data['sex_numerico']"
      ],
      "metadata": {
        "id": "MKWFtzqsuvl1",
        "colab": {
          "base_uri": "https://localhost:8080/"
        },
        "outputId": "0ba18c57-d7e0-4065-fea2-bac0f273cbfa"
      },
      "execution_count": null,
      "outputs": [
        {
          "output_type": "execute_result",
          "data": {
            "text/plain": [
              "0      1\n",
              "1      1\n",
              "2      1\n",
              "3      1\n",
              "4      1\n",
              "      ..\n",
              "390    0\n",
              "391    0\n",
              "392    0\n",
              "393    0\n",
              "394    0\n",
              "Name: sex_numerico, Length: 395, dtype: int64"
            ]
          },
          "metadata": {},
          "execution_count": 37
        }
      ]
    },
    {
      "cell_type": "code",
      "source": [
        "mapping = {'GP': 1, 'MS': 0}\n",
        "data['school_numerico']=data['school'].map(mapping)\n",
        "data['school_numerico']"
      ],
      "metadata": {
        "id": "-z_EUndtsWkx",
        "colab": {
          "base_uri": "https://localhost:8080/"
        },
        "outputId": "ae2861a1-070f-4fea-b992-8a314b813be9"
      },
      "execution_count": null,
      "outputs": [
        {
          "output_type": "execute_result",
          "data": {
            "text/plain": [
              "0      1\n",
              "1      1\n",
              "2      1\n",
              "3      1\n",
              "4      1\n",
              "      ..\n",
              "390    0\n",
              "391    0\n",
              "392    0\n",
              "393    0\n",
              "394    0\n",
              "Name: school_numerico, Length: 395, dtype: int64"
            ]
          },
          "metadata": {},
          "execution_count": 38
        }
      ]
    },
    {
      "cell_type": "code",
      "source": [
        "# Identificar las variables categóricas utilizando el atributo dtypes\n",
        "variables_categoricas = data.select_dtypes(include=['object']).columns.tolist()\n",
        "variables_categoricas"
      ],
      "metadata": {
        "id": "esQGpFCp6ius",
        "colab": {
          "base_uri": "https://localhost:8080/"
        },
        "outputId": "88d25ee8-9238-4b62-f03d-97bdcd85c69d"
      },
      "execution_count": null,
      "outputs": [
        {
          "output_type": "execute_result",
          "data": {
            "text/plain": [
              "['school',\n",
              " 'sex',\n",
              " 'address_type',\n",
              " 'family_size',\n",
              " 'parent_status',\n",
              " 'mother_education',\n",
              " 'father_education',\n",
              " 'mother_job',\n",
              " 'father_job',\n",
              " 'school_choice_reason',\n",
              " 'guardian',\n",
              " 'travel_time',\n",
              " 'study_time',\n",
              " 'school_support',\n",
              " 'family_support',\n",
              " 'extra_paid_classes',\n",
              " 'activities',\n",
              " 'nursery_school',\n",
              " 'higher_ed',\n",
              " 'internet_access',\n",
              " 'romantic_relationship']"
            ]
          },
          "metadata": {},
          "execution_count": 39
        }
      ]
    },
    {
      "cell_type": "code",
      "source": [
        "features = list(set(data.columns.tolist()) - set(['student_id','final_grade','school',\n",
        " 'sex',\n",
        " 'address_type',\n",
        " 'family_size',\n",
        " 'parent_status',\n",
        " 'mother_education',\n",
        " 'father_education',\n",
        " 'mother_job',\n",
        " 'father_job',\n",
        " 'school_choice_reason',\n",
        " 'guardian',\n",
        " 'travel_time',\n",
        " 'study_time',\n",
        " 'school_support',\n",
        " 'family_support',\n",
        " 'extra_paid_classes',\n",
        " 'activities',\n",
        " 'nursery_school',\n",
        " 'higher_ed',\n",
        " 'internet_access',\n",
        " 'romantic_relationship','grade_1','grade_2']))\n",
        "features\n"
      ],
      "metadata": {
        "colab": {
          "base_uri": "https://localhost:8080/"
        },
        "id": "W_i68kXTURCx",
        "outputId": "173bff21-ce2e-441e-8593-a5041f78226f"
      },
      "execution_count": null,
      "outputs": [
        {
          "output_type": "execute_result",
          "data": {
            "text/plain": [
              "['weekday_alcohol',\n",
              " 'motherjob_numerico',\n",
              " 'health',\n",
              " 'weekend_alcohol',\n",
              " 'familysize_numerico',\n",
              " 'romantic_relationship_numerico',\n",
              " 'family_support_numerico',\n",
              " 'nurserysch_numerico',\n",
              " 'class_failures',\n",
              " 'internet_access_numerico',\n",
              " 'family_relationship',\n",
              " 'school_support_numerico',\n",
              " 'social',\n",
              " 'school_numerico',\n",
              " 'fathereducation_numerico',\n",
              " 'fatherjob_numerico',\n",
              " 'highered_numerico',\n",
              " 'sex_numerico',\n",
              " 'mothereducation_numerico',\n",
              " 'study_time_numerico',\n",
              " 'schoireason_numerico',\n",
              " 'absences',\n",
              " 'free_time',\n",
              " 'extra_paid_classes_numerico',\n",
              " 'activities_numerico',\n",
              " 'age',\n",
              " 'parentstatus_numerico']"
            ]
          },
          "metadata": {},
          "execution_count": 40
        }
      ]
    },
    {
      "cell_type": "code",
      "source": [
        "from sklearn.model_selection import train_test_split"
      ],
      "metadata": {
        "id": "tX6byJNsYdt5"
      },
      "execution_count": null,
      "outputs": []
    },
    {
      "cell_type": "code",
      "source": [
        "X = data[features]\n",
        "y = data.final_grade\n"
      ],
      "metadata": {
        "id": "kF9qgS9J7Uyb"
      },
      "execution_count": null,
      "outputs": []
    },
    {
      "cell_type": "code",
      "source": [
        "print(f\"Tamaño de train: {len(X)}\")\n",
        "print(f\"Tamaño de test: {len(y)}\")"
      ],
      "metadata": {
        "colab": {
          "base_uri": "https://localhost:8080/"
        },
        "id": "n-5raKygoda8",
        "outputId": "dda5cb9e-ae5d-4cd6-f086-3accd994ab7f"
      },
      "execution_count": 113,
      "outputs": [
        {
          "output_type": "stream",
          "name": "stdout",
          "text": [
            "Tamaño de train: 395\n",
            "Tamaño de test: 395\n"
          ]
        }
      ]
    },
    {
      "cell_type": "code",
      "source": [
        "valores_nulos = X.isnull().sum()\n",
        "valores_nulos"
      ],
      "metadata": {
        "colab": {
          "base_uri": "https://localhost:8080/"
        },
        "id": "bpfpdBcJGRIV",
        "outputId": "a5e2c3a6-d8fe-4b7a-d930-442aef94c7e0"
      },
      "execution_count": null,
      "outputs": [
        {
          "output_type": "execute_result",
          "data": {
            "text/plain": [
              "weekday_alcohol                   0\n",
              "motherjob_numerico                0\n",
              "health                            0\n",
              "weekend_alcohol                   0\n",
              "familysize_numerico               0\n",
              "romantic_relationship_numerico    0\n",
              "family_support_numerico           0\n",
              "nurserysch_numerico               0\n",
              "class_failures                    0\n",
              "internet_access_numerico          0\n",
              "family_relationship               0\n",
              "school_support_numerico           0\n",
              "social                            0\n",
              "school_numerico                   0\n",
              "fathereducation_numerico          0\n",
              "fatherjob_numerico                0\n",
              "highered_numerico                 0\n",
              "sex_numerico                      0\n",
              "mothereducation_numerico          0\n",
              "study_time_numerico               0\n",
              "schoireason_numerico              0\n",
              "absences                          0\n",
              "free_time                         0\n",
              "extra_paid_classes_numerico       0\n",
              "activities_numerico               0\n",
              "age                               0\n",
              "parentstatus_numerico             0\n",
              "dtype: int64"
            ]
          },
          "metadata": {},
          "execution_count": 67
        }
      ]
    },
    {
      "cell_type": "code",
      "source": [
        "# Muestreo de data\n",
        "X_train,X_test, y_train, y_test = train_test_split(X, y,\n",
        "\n",
        "                                                    test_size = 0.3,\n",
        "                                                    random_state = 123)\n"
      ],
      "metadata": {
        "id": "YI-MfD0uU8wO"
      },
      "execution_count": 122,
      "outputs": []
    },
    {
      "cell_type": "code",
      "source": [
        "y_train.mean()"
      ],
      "metadata": {
        "colab": {
          "base_uri": "https://localhost:8080/"
        },
        "id": "BcD-0YwIaRkg",
        "outputId": "1b4bb708-d1aa-4a66-effd-7ee100fd3c8f"
      },
      "execution_count": 124,
      "outputs": [
        {
          "output_type": "execute_result",
          "data": {
            "text/plain": [
              "10.31159420289855"
            ]
          },
          "metadata": {},
          "execution_count": 124
        }
      ]
    },
    {
      "cell_type": "code",
      "source": [
        "\n",
        "y_test.mean()"
      ],
      "metadata": {
        "colab": {
          "base_uri": "https://localhost:8080/"
        },
        "id": "1n61JTtvhR7R",
        "outputId": "7d7c68c4-6ec7-4179-93cb-5c3ec084006f"
      },
      "execution_count": 125,
      "outputs": [
        {
          "output_type": "execute_result",
          "data": {
            "text/plain": [
              "10.655462184873949"
            ]
          },
          "metadata": {},
          "execution_count": 125
        }
      ]
    },
    {
      "cell_type": "markdown",
      "source": [
        "DECISION TREE"
      ],
      "metadata": {
        "id": "Mh9Ad8zXS5w8"
      }
    },
    {
      "cell_type": "code",
      "source": [
        "# Cargar librerías\n",
        "\n",
        "from sklearn.tree import DecisionTreeClassifier\n"
      ],
      "metadata": {
        "id": "blwzjdaqS8kz"
      },
      "execution_count": null,
      "outputs": []
    },
    {
      "cell_type": "code",
      "source": [
        "\n",
        "dtree = DecisionTreeClassifier(max_depth = 5,\n",
        "                               #class_weight = {0: 1, 1: 25.272},\n",
        "                               min_samples_leaf = 0.05,\n",
        "                               random_state = 123)\n",
        "\n",
        "dtree = dtree.fit(X_train, y_train)\n",
        "\n",
        "dtree"
      ],
      "metadata": {
        "id": "2OF3GEtQTTPR",
        "colab": {
          "base_uri": "https://localhost:8080/",
          "height": 74
        },
        "outputId": "e97770ee-a31c-477c-8a6b-56166fa3da98"
      },
      "execution_count": null,
      "outputs": [
        {
          "output_type": "execute_result",
          "data": {
            "text/plain": [
              "DecisionTreeClassifier(max_depth=5, min_samples_leaf=0.05, random_state=123)"
            ],
            "text/html": [
              "<style>#sk-container-id-1 {color: black;background-color: white;}#sk-container-id-1 pre{padding: 0;}#sk-container-id-1 div.sk-toggleable {background-color: white;}#sk-container-id-1 label.sk-toggleable__label {cursor: pointer;display: block;width: 100%;margin-bottom: 0;padding: 0.3em;box-sizing: border-box;text-align: center;}#sk-container-id-1 label.sk-toggleable__label-arrow:before {content: \"▸\";float: left;margin-right: 0.25em;color: #696969;}#sk-container-id-1 label.sk-toggleable__label-arrow:hover:before {color: black;}#sk-container-id-1 div.sk-estimator:hover label.sk-toggleable__label-arrow:before {color: black;}#sk-container-id-1 div.sk-toggleable__content {max-height: 0;max-width: 0;overflow: hidden;text-align: left;background-color: #f0f8ff;}#sk-container-id-1 div.sk-toggleable__content pre {margin: 0.2em;color: black;border-radius: 0.25em;background-color: #f0f8ff;}#sk-container-id-1 input.sk-toggleable__control:checked~div.sk-toggleable__content {max-height: 200px;max-width: 100%;overflow: auto;}#sk-container-id-1 input.sk-toggleable__control:checked~label.sk-toggleable__label-arrow:before {content: \"▾\";}#sk-container-id-1 div.sk-estimator input.sk-toggleable__control:checked~label.sk-toggleable__label {background-color: #d4ebff;}#sk-container-id-1 div.sk-label input.sk-toggleable__control:checked~label.sk-toggleable__label {background-color: #d4ebff;}#sk-container-id-1 input.sk-hidden--visually {border: 0;clip: rect(1px 1px 1px 1px);clip: rect(1px, 1px, 1px, 1px);height: 1px;margin: -1px;overflow: hidden;padding: 0;position: absolute;width: 1px;}#sk-container-id-1 div.sk-estimator {font-family: monospace;background-color: #f0f8ff;border: 1px dotted black;border-radius: 0.25em;box-sizing: border-box;margin-bottom: 0.5em;}#sk-container-id-1 div.sk-estimator:hover {background-color: #d4ebff;}#sk-container-id-1 div.sk-parallel-item::after {content: \"\";width: 100%;border-bottom: 1px solid gray;flex-grow: 1;}#sk-container-id-1 div.sk-label:hover label.sk-toggleable__label {background-color: #d4ebff;}#sk-container-id-1 div.sk-serial::before {content: \"\";position: absolute;border-left: 1px solid gray;box-sizing: border-box;top: 0;bottom: 0;left: 50%;z-index: 0;}#sk-container-id-1 div.sk-serial {display: flex;flex-direction: column;align-items: center;background-color: white;padding-right: 0.2em;padding-left: 0.2em;position: relative;}#sk-container-id-1 div.sk-item {position: relative;z-index: 1;}#sk-container-id-1 div.sk-parallel {display: flex;align-items: stretch;justify-content: center;background-color: white;position: relative;}#sk-container-id-1 div.sk-item::before, #sk-container-id-1 div.sk-parallel-item::before {content: \"\";position: absolute;border-left: 1px solid gray;box-sizing: border-box;top: 0;bottom: 0;left: 50%;z-index: -1;}#sk-container-id-1 div.sk-parallel-item {display: flex;flex-direction: column;z-index: 1;position: relative;background-color: white;}#sk-container-id-1 div.sk-parallel-item:first-child::after {align-self: flex-end;width: 50%;}#sk-container-id-1 div.sk-parallel-item:last-child::after {align-self: flex-start;width: 50%;}#sk-container-id-1 div.sk-parallel-item:only-child::after {width: 0;}#sk-container-id-1 div.sk-dashed-wrapped {border: 1px dashed gray;margin: 0 0.4em 0.5em 0.4em;box-sizing: border-box;padding-bottom: 0.4em;background-color: white;}#sk-container-id-1 div.sk-label label {font-family: monospace;font-weight: bold;display: inline-block;line-height: 1.2em;}#sk-container-id-1 div.sk-label-container {text-align: center;}#sk-container-id-1 div.sk-container {/* jupyter's `normalize.less` sets `[hidden] { display: none; }` but bootstrap.min.css set `[hidden] { display: none !important; }` so we also need the `!important` here to be able to override the default hidden behavior on the sphinx rendered scikit-learn.org. See: https://github.com/scikit-learn/scikit-learn/issues/21755 */display: inline-block !important;position: relative;}#sk-container-id-1 div.sk-text-repr-fallback {display: none;}</style><div id=\"sk-container-id-1\" class=\"sk-top-container\"><div class=\"sk-text-repr-fallback\"><pre>DecisionTreeClassifier(max_depth=5, min_samples_leaf=0.05, random_state=123)</pre><b>In a Jupyter environment, please rerun this cell to show the HTML representation or trust the notebook. <br />On GitHub, the HTML representation is unable to render, please try loading this page with nbviewer.org.</b></div><div class=\"sk-container\" hidden><div class=\"sk-item\"><div class=\"sk-estimator sk-toggleable\"><input class=\"sk-toggleable__control sk-hidden--visually\" id=\"sk-estimator-id-1\" type=\"checkbox\" checked><label for=\"sk-estimator-id-1\" class=\"sk-toggleable__label sk-toggleable__label-arrow\">DecisionTreeClassifier</label><div class=\"sk-toggleable__content\"><pre>DecisionTreeClassifier(max_depth=5, min_samples_leaf=0.05, random_state=123)</pre></div></div></div></div></div>"
            ]
          },
          "metadata": {},
          "execution_count": 96
        }
      ]
    },
    {
      "cell_type": "code",
      "source": [
        "\n",
        "print(f\"Tamaño de train: {len(y_train)}\")\n",
        "print(f\"Tamaño de test: {len(y_test)}\")"
      ],
      "metadata": {
        "colab": {
          "base_uri": "https://localhost:8080/"
        },
        "id": "f2OS_Z-8IaG8",
        "outputId": "799ac3a6-34b9-44da-bc8d-64f1b7b4c2a8"
      },
      "execution_count": null,
      "outputs": [
        {
          "output_type": "stream",
          "name": "stdout",
          "text": [
            "Tamaño de train: 276\n",
            "Tamaño de test: 119\n"
          ]
        }
      ]
    },
    {
      "cell_type": "code",
      "source": [
        "# Graficando resultados\n",
        "\n",
        "from sklearn.tree import export_graphviz\n",
        "from pydotplus import graph_from_dot_data\n",
        "\n",
        "dot_data = export_graphviz(dtree,\n",
        "                           feature_names = features,\n",
        "                           filled = True,\n",
        "                           rounded = True,\n",
        "                           special_characters = True)\n",
        "\n",
        "graph = graph_from_dot_data(dot_data)\n",
        "graph.write_png('treeNU.png')\n",
        "print(graph)\n"
      ],
      "metadata": {
        "colab": {
          "base_uri": "https://localhost:8080/"
        },
        "id": "N0HnLMfmAu1j",
        "outputId": "735ce3df-3711-460a-c430-8926c507fa26"
      },
      "execution_count": null,
      "outputs": [
        {
          "output_type": "stream",
          "name": "stdout",
          "text": [
            "<pydotplus.graphviz.Dot object at 0x7c3420ed2ec0>\n"
          ]
        }
      ]
    }
  ]
}